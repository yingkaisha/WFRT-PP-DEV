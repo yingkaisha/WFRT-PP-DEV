{
 "cells": [
  {
   "cell_type": "code",
   "execution_count": null,
   "metadata": {},
   "outputs": [],
   "source": []
  },
  {
   "cell_type": "code",
   "execution_count": 4,
   "metadata": {},
   "outputs": [],
   "source": [
    "import os\n",
    "import sys\n",
    "import time\n",
    "import argparse\n",
    "\n",
    "import h5py\n",
    "import zarr\n",
    "import pygrib\n",
    "import numba as nb\n",
    "import numpy as np\n",
    "from datetime import datetime\n",
    "\n",
    "import tensorflow as tf\n",
    "from tensorflow import keras\n",
    "import tensorflow.keras.backend as K\n",
    "\n",
    "sys.path.insert(0, '/glade/u/home/ksha/PUBLISH/WFRT-PP-DEV/')\n",
    "sys.path.insert(0, '/glade/u/home/ksha/PUBLISH/WFRT-PP-DEV/libs/')\n",
    "\n",
    "import utils\n",
    "\n",
    "# !!!! <---- change to your namelist\n",
    "from namelist_casper import * \n",
    "#"
   ]
  },
  {
   "cell_type": "code",
   "execution_count": 5,
   "metadata": {},
   "outputs": [],
   "source": [
    "# graph tools\n",
    "import cmaps\n",
    "import cartopy.crs as ccrs\n",
    "import cartopy.mpl.geoaxes\n",
    "import cartopy.feature as cfeature\n",
    "from cartopy.io.shapereader import Reader\n",
    "from cartopy.feature import ShapelyFeature\n",
    "from cartopy.mpl.gridliner import LONGITUDE_FORMATTER, LATITUDE_FORMATTER\n",
    "\n",
    "import matplotlib.pyplot as plt\n",
    "import matplotlib.lines as mlines\n",
    "import matplotlib.colors as colors\n",
    "import matplotlib.patches as patches\n",
    "from matplotlib.collections import PatchCollection\n",
    "\n",
    "from matplotlib import ticker\n",
    "import matplotlib.ticker as mticker\n",
    "import matplotlib.gridspec as gridspec\n",
    "from mpl_toolkits.axes_grid1.inset_locator import inset_axes\n",
    "\n",
    "%matplotlib inline"
   ]
  },
  {
   "cell_type": "code",
   "execution_count": null,
   "metadata": {},
   "outputs": [],
   "source": []
  },
  {
   "cell_type": "code",
   "execution_count": 6,
   "metadata": {},
   "outputs": [],
   "source": [
    "dt_fmt = '20220330'\n",
    "if dt_fmt == 'auto':\n",
    "    dt_utc_now = datetime.utcnow()\n",
    "    dt_fmt_string = datetime.strftime(dt_utc_now, '%Y%m%d')\n",
    "else:\n",
    "    dt_fmt_string = dt_fmt\n",
    "    dt_utc_now = datetime.strptime(dt_fmt_string, '%Y%m%d')"
   ]
  },
  {
   "cell_type": "code",
   "execution_count": null,
   "metadata": {},
   "outputs": [],
   "source": []
  },
  {
   "cell_type": "code",
   "execution_count": 7,
   "metadata": {},
   "outputs": [],
   "source": [
    "with h5py.File(path_domain_namelist, 'r') as h5io:\n",
    "    lat_bc = h5io['bc_lat'][...] # lats of the BC domain\n",
    "    lon_bc = h5io['bc_lon'][...] # lons of the BC domain\n",
    "    land_mask_bc = h5io['land_mask_bc'][...] # selecting OCEAN grids from the BC domain\n",
    "\n",
    "ocean_mask_bc = np.logical_not(land_mask_bc) # selecting LAND grids from the BC domain"
   ]
  },
  {
   "cell_type": "code",
   "execution_count": null,
   "metadata": {},
   "outputs": [],
   "source": []
  },
  {
   "cell_type": "code",
   "execution_count": 8,
   "metadata": {},
   "outputs": [],
   "source": [
    "output_dir = output_dir_namelist.format(dt_fmt_string)"
   ]
  },
  {
   "cell_type": "code",
   "execution_count": 14,
   "metadata": {},
   "outputs": [],
   "source": [
    "name_output = filename_output_namelist.format(dt_fmt_string)\n",
    "\n",
    "with h5py.File(output_dir+name_output, 'r') as h5io:\n",
    "    nonDL_output = h5io['gefs_apcp'][...]"
   ]
  },
  {
   "cell_type": "code",
   "execution_count": 10,
   "metadata": {},
   "outputs": [],
   "source": [
    "name_output = filename_CNN_output_namelist.format(dt_fmt_string)\n",
    "\n",
    "with h5py.File(output_dir+name_output, 'r') as h5io:\n",
    "    CNN_output = h5io['gefs_apcp'][...]"
   ]
  },
  {
   "cell_type": "code",
   "execution_count": 11,
   "metadata": {},
   "outputs": [],
   "source": [
    "CNN_output[..., land_mask_bc] = np.nan\n",
    "#CNN_output[CNN_output<0] = 0"
   ]
  },
  {
   "cell_type": "code",
   "execution_count": 12,
   "metadata": {},
   "outputs": [],
   "source": [
    "GEFS_raw = np.empty((N_leads_namelist,)+ocean_mask_bc.shape)"
   ]
  },
  {
   "cell_type": "code",
   "execution_count": 13,
   "metadata": {},
   "outputs": [],
   "source": [
    "for i, lead in enumerate(LEADs_namelist):\n",
    "    \n",
    "    lead_int_h = int(FCSTs_namelist[lead])\n",
    "\n",
    "    # GEFS file path creation\n",
    "    GEFS_dir_base = path_gefs_nrt_namelist.format(dt_fmt_string)\n",
    "    GEFS_dir_full = GEFS_dir_base+filename_gefs_namelist+'.f{0:03d}'.format(lead_int_h)\n",
    "\n",
    "    with pygrib.open(GEFS_dir_full) as grb_io:\n",
    "\n",
    "        # Import APCP from today's forecast\n",
    "        grb_reader_apcp = grb_io.select(name='Total Precipitation')[0]\n",
    "        apcp, _, _ = grb_reader_apcp.data(lat1=48.25, lat2=60.00, lon1=-141.0+360, lon2=-113.25+360)\n",
    "        apcp = np.flipud(apcp) # GEFS default: kg/m**-2 (or mm) per 3 hours\n",
    "        \n",
    "    GEFS_raw[i, ...] = apcp"
   ]
  },
  {
   "cell_type": "code",
   "execution_count": 15,
   "metadata": {},
   "outputs": [],
   "source": [
    "GEFS_raw[:, land_mask_bc] = np.nan"
   ]
  },
  {
   "cell_type": "code",
   "execution_count": 16,
   "metadata": {},
   "outputs": [
    {
     "data": {
      "text/plain": [
       "nan"
      ]
     },
     "execution_count": 16,
     "metadata": {},
     "output_type": "execute_result"
    }
   ],
   "source": [
    "CNN_output[0, 0, 0, 0]"
   ]
  },
  {
   "cell_type": "code",
   "execution_count": 17,
   "metadata": {},
   "outputs": [
    {
     "data": {
      "text/plain": [
       "nan"
      ]
     },
     "execution_count": 17,
     "metadata": {},
     "output_type": "execute_result"
    }
   ],
   "source": [
    "nonDL_output[0, 0, 0, 0]"
   ]
  },
  {
   "cell_type": "code",
   "execution_count": 18,
   "metadata": {},
   "outputs": [
    {
     "data": {
      "text/plain": [
       "(54, 48, 112)"
      ]
     },
     "execution_count": 18,
     "metadata": {},
     "output_type": "execute_result"
    }
   ],
   "source": [
    "GEFS_raw.shape"
   ]
  },
  {
   "cell_type": "code",
   "execution_count": 19,
   "metadata": {},
   "outputs": [
    {
     "data": {
      "text/plain": [
       "(75, 54, 48, 112)"
      ]
     },
     "execution_count": 19,
     "metadata": {},
     "output_type": "execute_result"
    }
   ],
   "source": [
    "nonDL_output.shape"
   ]
  },
  {
   "cell_type": "code",
   "execution_count": 47,
   "metadata": {},
   "outputs": [
    {
     "data": {
      "text/plain": [
       "<matplotlib.collections.QuadMesh at 0x2b8ce1f395c0>"
      ]
     },
     "execution_count": 47,
     "metadata": {},
     "output_type": "execute_result"
    },
    {
     "data": {
      "image/png": "[encoded data removed]",
      "text/plain": [
       "<Figure size 432x288 with 1 Axes>"
      ]
     },
     "metadata": {
      "needs_background": "light"
     },
     "output_type": "display_data"
    }
   ],
   "source": [
    "plt.pcolormesh(GEFS_raw[40, ...], vmin=0.0, vmax=5, cmap=plt.cm.nipy_spectral_r)"
   ]
  },
  {
   "cell_type": "code",
   "execution_count": 46,
   "metadata": {},
   "outputs": [
    {
     "data": {
      "text/plain": [
       "<matplotlib.collections.QuadMesh at 0x2b8ce1ee27b8>"
      ]
     },
     "execution_count": 46,
     "metadata": {},
     "output_type": "execute_result"
    },
    {
     "data": {
      "image/png": "[encoded data removed]",
      "text/plain": [
       "<Figure size 432x288 with 1 Axes>"
      ]
     },
     "metadata": {
      "needs_background": "light"
     },
     "output_type": "display_data"
    }
   ],
   "source": [
    "plt.pcolormesh(nonDL_output[0, 40, ...], vmin=0.0, vmax=5, cmap=plt.cm.nipy_spectral_r)"
   ]
  },
  {
   "cell_type": "code",
   "execution_count": 45,
   "metadata": {},
   "outputs": [
    {
     "data": {
      "text/plain": [
       "<matplotlib.collections.QuadMesh at 0x2b8ce1e6ad30>"
      ]
     },
     "execution_count": 45,
     "metadata": {},
     "output_type": "execute_result"
    },
    {
     "data": {
      "image/png": "[encoded data removed]",
      "text/plain": [
       "<Figure size 432x288 with 1 Axes>"
      ]
     },
     "metadata": {
      "needs_background": "light"
     },
     "output_type": "display_data"
    }
   ],
   "source": [
    "plt.pcolormesh(CNN_output[0, 40, ...], vmin=0.0, vmax=5, cmap=plt.cm.nipy_spectral_r)"
   ]
  },
  {
   "cell_type": "code",
   "execution_count": 48,
   "metadata": {},
   "outputs": [],
   "source": [
    "# for i in range(54):\n",
    "\n",
    "#     plt.figure()\n",
    "#     plt.pcolormesh(0.5*CNN_output[0, i, ...]+0.5*nonDL_output[0, i, ...], vmin=0, vmax=5, cmap=plt.cm.nipy_spectral_r)\n",
    "\n",
    "#     plt.figure()\n",
    "#     plt.pcolormesh(CNN_output[0, i, ...], vmin=0, vmax=5, cmap=plt.cm.nipy_spectral_r)\n",
    "\n",
    "#     plt.figure()\n",
    "#     plt.pcolormesh(nonDL_output[0, i, ...], vmin=0, vmax=5, cmap=plt.cm.nipy_spectral_r)"
   ]
  },
  {
   "cell_type": "code",
   "execution_count": null,
   "metadata": {},
   "outputs": [],
   "source": []
  },
  {
   "cell_type": "code",
   "execution_count": 39,
   "metadata": {},
   "outputs": [
    {
     "data": {
      "text/plain": [
       "(54, 48, 112)"
      ]
     },
     "execution_count": 39,
     "metadata": {},
     "output_type": "execute_result"
    }
   ],
   "source": [
    "GEFS_raw.shape"
   ]
  },
  {
   "cell_type": "code",
   "execution_count": 48,
   "metadata": {},
   "outputs": [
    {
     "data": {
      "text/plain": [
       "(75, 54, 48, 112)"
      ]
     },
     "execution_count": 48,
     "metadata": {},
     "output_type": "execute_result"
    }
   ],
   "source": [
    "CNN_output.shape"
   ]
  },
  {
   "cell_type": "code",
   "execution_count": null,
   "metadata": {},
   "outputs": [],
   "source": []
  },
  {
   "cell_type": "code",
   "execution_count": null,
   "metadata": {},
   "outputs": [],
   "source": []
  },
  {
   "cell_type": "code",
   "execution_count": null,
   "metadata": {},
   "outputs": [],
   "source": []
  },
  {
   "cell_type": "code",
   "execution_count": null,
   "metadata": {},
   "outputs": [],
   "source": []
  }
 ],
 "metadata": {
  "kernelspec": {
   "display_name": "Python 3",
   "language": "python",
   "name": "python3"
  },
  "language_info": {
   "codemirror_mode": {
    "name": "ipython",
    "version": 3
   },
   "file_extension": ".py",
   "mimetype": "text/x-python",
   "name": "python",
   "nbconvert_exporter": "python",
   "pygments_lexer": "ipython3",
   "version": "3.6.8"
  }
 },
 "nbformat": 4,
 "nbformat_minor": 4
}
