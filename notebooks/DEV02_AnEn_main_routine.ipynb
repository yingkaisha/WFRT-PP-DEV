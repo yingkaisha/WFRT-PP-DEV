{
 "cells": [
  {
   "cell_type": "markdown",
   "metadata": {},
   "source": [
    "# The main routine of AnEn and MDSS"
   ]
  },
  {
   "cell_type": "code",
   "execution_count": 1,
   "metadata": {},
   "outputs": [],
   "source": [
    "# sys tools\n",
    "import sys\n",
    "import time\n",
    "import argparse\n",
    "\n",
    "# data tools\n",
    "import h5py\n",
    "import zarr\n",
    "import pygrib\n",
    "import numpy as np\n",
    "from datetime import datetime\n",
    "\n",
    "sys.path.insert(0, '/glade/u/home/ksha/PUBLISH/WFRT-PP-DEV/')\n",
    "sys.path.insert(0, '/glade/u/home/ksha/PUBLISH/WFRT-PP-DEV/libs/')\n",
    "\n",
    "import nonDL_lib as nDL\n",
    "import utils\n",
    "from namelist_casper import * \n"
   ]
  },
  {
   "cell_type": "code",
   "execution_count": null,
   "metadata": {},
   "outputs": [],
   "source": []
  },
  {
   "cell_type": "code",
   "execution_count": 3,
   "metadata": {},
   "outputs": [],
   "source": [
    "# -------- Function ends -------- #\n",
    "\n",
    "# parser = argparse.ArgumentParser()\n",
    "# parser.add_argument('year_fcst', help='year_fcst')\n",
    "# parser.add_argument('part', help='part')\n",
    "# args = vars(parser.parse_args())\n",
    "# year_fcst = int(args['year_fcst'])\n",
    "# part_ = int(args['part'])\n",
    "\n",
    "EN = 25\n",
    "\n",
    "dt_utc_now = datetime.utcnow()\n",
    "dt_fmt_string = datetime.strftime(dt_utc_now, '%Y%m%d')\n",
    "dt_day_of_year = dt_utc_now.timetuple().tm_yday\n",
    "dt_month_from_zero = dt_utc_now.month-1\n",
    "flag_leap_year = utils.leap_year_checker(dt_utc_now.year)\n",
    "\n",
    "# ---------------------------------- #\n",
    "\n",
    "# arg2\n",
    "LEADs = np.arange(0, 6, dtype=np.int)\n",
    "N_leads = len(LEADs)"
   ]
  },
  {
   "cell_type": "code",
   "execution_count": 4,
   "metadata": {},
   "outputs": [],
   "source": [
    "year_analog = np.arange(2000, 2019)\n",
    "\n",
    "# importing domain information\n",
    "with h5py.File(save_dir+'BC_domain_info.hdf', 'r') as h5io:\n",
    "    lat_bc = h5io['bc_lat'][...] # lats of the BC domain\n",
    "    lon_bc = h5io['bc_lon'][...] # lons of the BC domain\n",
    "    land_mask_bc = h5io['land_mask_bc'][...] # selecting OCEAN grids from the BC domain\n",
    "\n",
    "ocean_mask_bc = np.logical_not(land_mask_bc) # selecting LAND grids from the BC domain\n",
    "\n",
    "bc_shape = land_mask_bc.shape\n",
    "N_grids = np.sum(ocean_mask_bc)"
   ]
  },
  {
   "cell_type": "code",
   "execution_count": 5,
   "metadata": {},
   "outputs": [],
   "source": [
    "# supplemental locations\n",
    "SL_xy_dict = {}\n",
    "with h5py.File(save_dir+'SL20_d4_unique.hdf', 'r') as h5io:\n",
    "    #IxIy_unique = h5io['unique_inds'][...]\n",
    "    for i in range(12):\n",
    "        temp = h5io['mon_{}_inds'.format(i)][...]\n",
    "        temp = temp.astype(int)\n",
    "        SL_xy_dict['{}'.format(i)] = temp\n",
    "#IxIy_unique = IxIy_unique.astype(int)\n",
    "SL_xy = tuple(SL_xy_dict.values())"
   ]
  },
  {
   "cell_type": "code",
   "execution_count": 6,
   "metadata": {},
   "outputs": [],
   "source": [
    "AnEn_out = np.empty((N_leads, N_grids, EN))"
   ]
  },
  {
   "cell_type": "code",
   "execution_count": null,
   "metadata": {},
   "outputs": [
    {
     "name": "stdout",
     "output_type": "stream",
     "text": [
      "AnEn post-processing ...\n",
      "\tLead time = 0\n",
      "\tLead time = 1\n",
      "\tLead time = 2\n",
      "\tLead time = 3\n"
     ]
    }
   ],
   "source": [
    "start_time = time.time()\n",
    "print('AnEn post-processing ...')\n",
    "\n",
    "AnEn_out = np.empty((N_leads_namelist, N_grids, ensemble_number_namelist))\n",
    "\n",
    "for i, lead in enumerate(LEADs_namelist):\n",
    "    lead_int_h = int(FCSTs_namelist[lead])\n",
    "    \n",
    "    print(\"\\tLead time = {}\".format(lead))\n",
    "    \n",
    "    # Import reforecast (Numpy arrays saved as zarr format)\n",
    "    # ------------------------------------------------------ #\n",
    "    \n",
    "    APCP = ()\n",
    "    PWAT = ()\n",
    "    \n",
    "    for year in year_anen_namelist:\n",
    "        apcp_temp = zarr.load(path_gefs_apcp_namelist.format(year, lead))\n",
    "        pwat_temp = zarr.load(path_gefs_pwat_namelist.format(year, lead))\n",
    "        \n",
    "        APCP += (apcp_temp,)\n",
    "        PWAT += (pwat_temp,)\n",
    "    \n",
    "    # Import reanalysis (Numpy arrays saved as zarr format)\n",
    "    # ----------------------------------------------------- #\n",
    "    \n",
    "    ERA5 = ()\n",
    "    \n",
    "    for year in year_anen_namelist:\n",
    "        era_temp = zarr.load(path_era5_namelist.format(year, lead))\n",
    "        \n",
    "        ERA5 += (era_temp,)\n",
    "    \n",
    "    # Import today's GEFS \n",
    "    # ----------------------------------------------------- #\n",
    "    \n",
    "    # GEFS file path creation\n",
    "    GEFS_dir_base = path_gefs_nrt_namelist.format(dt_fmt_string)\n",
    "    GEFS_dir_full = GEFS_dir_base+filename_gefs_namelist+'.f{0:03d}'.format(lead_int_h)\n",
    "    \n",
    "    with pygrib.open(GEFS_dir_full) as grb_io:\n",
    "        \n",
    "        # Import APCP from today's forecast\n",
    "        grb_reader_apcp = grb_io.select(name='Total Precipitation')[0]\n",
    "        apcp, _, _ = grb_reader_apcp.data(lat1=48.25, lat2=60.00, lon1=-141.0+360, lon2=-113.25+360)\n",
    "        apcp = np.flipud(apcp) # GEFS default: kg/m**-2 (or mm) per 3 hours\n",
    "        \n",
    "        # Import PWAT from today's forecast\n",
    "        grb_reader_pwat = grb_io.select(name='Precipitable water')[0]\n",
    "        pwat, _, _ = grb_reader_pwat.data(lat1=48.25, lat2=60.00, lon1=-141.0+360, lon2=-113.25+360)\n",
    "        pwat = np.flipud(pwat) # GEFS default: kg/m**-2 (or mm) per 3 hours\n",
    "    \n",
    "    apcp_flat = apcp[ocean_mask_bc]\n",
    "    pwat_flat = apcp[ocean_mask_bc]\n",
    "    \n",
    "    # AnEn search\n",
    "    # ------------------------------------------------------ #\n",
    "    \n",
    "    AnEn = nDL.analog_search_SL_single_day(dt_day_of_year, year_anen_namelist, apcp_flat, pwat_flat, \n",
    "                                           APCP, PWAT, ERA5, ensemble_number_namelist, SL_xy, flag_leap_year)    \n",
    "    AnEn_out[i, ...] = AnEn"
   ]
  },
  {
   "cell_type": "code",
   "execution_count": null,
   "metadata": {},
   "outputs": [],
   "source": [
    "AnEn_out.shape"
   ]
  },
  {
   "cell_type": "code",
   "execution_count": null,
   "metadata": {},
   "outputs": [],
   "source": [
    "AnEn_out_dress = nDL.dressing_norm_flat(AnEn_out, folds=3, k1=0.0, k2=0.5)"
   ]
  },
  {
   "cell_type": "code",
   "execution_count": null,
   "metadata": {},
   "outputs": [],
   "source": [
    "AnEn_out_dress[AnEn_out_dress<0] = 0"
   ]
  },
  {
   "cell_type": "code",
   "execution_count": null,
   "metadata": {},
   "outputs": [],
   "source": [
    "plt.hist(AnEn_out_dress.ravel(), log=True)\n",
    "plt.hist(AnEn_out.ravel(), log=True)"
   ]
  },
  {
   "cell_type": "code",
   "execution_count": 49,
   "metadata": {},
   "outputs": [
    {
     "data": {
      "text/plain": [
       "(array([3.72288e+05, 9.75500e+03, 2.48400e+03, 8.92000e+02, 4.21000e+02,\n",
       "        1.67000e+02, 5.90000e+01, 2.40000e+01, 7.00000e+00, 3.00000e+00]),\n",
       " array([0.       , 0.5460367, 1.0920734, 1.6381101, 2.1841468, 2.7301835,\n",
       "        3.2762202, 3.8222569, 4.3682936, 4.9143303, 5.460367 ]),\n",
       " <a list of 10 Patch objects>)"
      ]
     },
     "execution_count": 49,
     "metadata": {},
     "output_type": "execute_result"
    },
    {
     "data": {
      "image/png": "[encoded data removed]",
      "text/plain": [
       "<Figure size 432x288 with 1 Axes>"
      ]
     },
     "metadata": {
      "needs_background": "light"
     },
     "output_type": "display_data"
    }
   ],
   "source": [
    "\n",
    "plt.hist(anen_grid.ravel(), log=True)"
   ]
  },
  {
   "cell_type": "code",
   "execution_count": null,
   "metadata": {},
   "outputs": [],
   "source": [
    "plt.hist(anen_grid.ravel(), log=True)"
   ]
  },
  {
   "cell_type": "code",
   "execution_count": 31,
   "metadata": {},
   "outputs": [],
   "source": [
    "AnEn_out = AnEn_out_dress"
   ]
  },
  {
   "cell_type": "markdown",
   "metadata": {},
   "source": [
    "# MDSS"
   ]
  },
  {
   "cell_type": "code",
   "execution_count": 55,
   "metadata": {},
   "outputs": [],
   "source": [
    "year_mdss = np.arange(2010, 2019)"
   ]
  },
  {
   "cell_type": "code",
   "execution_count": 56,
   "metadata": {},
   "outputs": [
    {
     "name": "stdout",
     "output_type": "stream",
     "text": [
      "... Completed. Time = 16.339712619781494 sec \n"
     ]
    }
   ],
   "source": [
    "start_time = time.time()\n",
    "\n",
    "ERA5_mdss = ()\n",
    "\n",
    "window_day = 30\n",
    "N_days = window_day*2 + 1\n",
    "\n",
    "# loop over years for MDSS training\n",
    "for year in year_mdss:\n",
    "    \n",
    "    # separate leap year\n",
    "    if utils.leap_year_checker(year):\n",
    "        flag_pick = nDL.search_nearby_days(dt_day_of_year, window=30, leap_year=True)\n",
    "    else:\n",
    "        flag_pick = nDL.search_nearby_days(dt_day_of_year, window=30, leap_year=False)\n",
    "        \n",
    "    flag_pick = flag_pick == 1\n",
    "    era_all_lead = np.empty((N_days, N_grids, N_leads))\n",
    "    \n",
    "    # loop over lead times\n",
    "    for i, lead in enumerate(LEADs):\n",
    "        era_temp = zarr.load(BASE_dir+'BC_ERA5_year{}_lead{}.zarr'.format(year, lead))\n",
    "        era_all_lead[..., i] = era_temp[flag_pick, :]\n",
    "    \n",
    "    ERA5_mdss += (era_all_lead,)\n",
    "\n",
    "ERA5_mdss = np.concatenate(ERA5_mdss)\n",
    "\n",
    "print(\"... Completed. Time = {} sec \".format((time.time() - start_time)))"
   ]
  },
  {
   "cell_type": "code",
   "execution_count": 57,
   "metadata": {},
   "outputs": [],
   "source": [
    "AnEn_out = np.transpose(AnEn_out, (2, 0, 1))\n",
    "ERA5_mdss = np.transpose(ERA5_mdss, (0, 2, 1))"
   ]
  },
  {
   "cell_type": "code",
   "execution_count": null,
   "metadata": {},
   "outputs": [],
   "source": []
  },
  {
   "cell_type": "code",
   "execution_count": 58,
   "metadata": {},
   "outputs": [],
   "source": [
    "# save_dict = {'AnEn_out': AnEn_out, 'ERA5_mdss': ERA5_mdss}\n",
    "# np.save('test.npy', save_dict)\n",
    "\n",
    "# temp_data = np.load('test.npy', allow_pickle=True)[()]\n",
    "# AnEn_out = temp_data['AnEn_out']\n",
    "# ERA5_mdss = temp_data['ERA5_mdss']"
   ]
  },
  {
   "cell_type": "code",
   "execution_count": null,
   "metadata": {},
   "outputs": [],
   "source": []
  },
  {
   "cell_type": "code",
   "execution_count": 59,
   "metadata": {},
   "outputs": [],
   "source": [
    "flag_pick = nDL.search_nearby_days(dt_day_of_year, window=30, leap_year=True)"
   ]
  },
  {
   "cell_type": "markdown",
   "metadata": {},
   "source": [
    "We need to cut ~500 to 25 meanwhile minimizing the distribution divergence."
   ]
  },
  {
   "cell_type": "code",
   "execution_count": 60,
   "metadata": {},
   "outputs": [],
   "source": [
    "#CDF_fcst = CDF_estimate(AnEn_out)\n",
    "#CDF_ERA5 = CDF_estimate(ERA5_mdss)\n",
    "#record = total_divergence(CDF_ERA5, CDF_fcst)"
   ]
  },
  {
   "cell_type": "code",
   "execution_count": null,
   "metadata": {},
   "outputs": [],
   "source": [
    "start_time = time.time()\n",
    "flag_clean, count_trial = nDL.MDSS_main(ERA5_mdss, AnEn_out, factor=5, max_trial=10000)\n",
    "print(\"... Completed. Time = {} sec \".format((time.time() - start_time)))"
   ]
  },
  {
   "cell_type": "code",
   "execution_count": null,
   "metadata": {},
   "outputs": [],
   "source": [
    "ERA5_pick = ERA5_mdss[flag_clean][:EN, ...]"
   ]
  },
  {
   "cell_type": "code",
   "execution_count": null,
   "metadata": {},
   "outputs": [],
   "source": [
    "# CDF_fcst = CDF_estimate(AnEn_out)\n",
    "# CDF_ERA5 = CDF_estimate(ERA5_pick)\n",
    "# total_divergence(CDF_ERA5, CDF_fcst)"
   ]
  },
  {
   "cell_type": "code",
   "execution_count": null,
   "metadata": {},
   "outputs": [],
   "source": [
    "# for i in range(200):\n",
    "#     plt.figure()\n",
    "#     plt.plot(CDF_fcst[:, 0, i])\n",
    "#     plt.plot(CDF_ERA5[:, 0, i])"
   ]
  },
  {
   "cell_type": "code",
   "execution_count": null,
   "metadata": {},
   "outputs": [],
   "source": [
    "AnEn_MDSS_out = nDL.schaake_shuffle(AnEn_out, ERA5_pick)"
   ]
  },
  {
   "cell_type": "code",
   "execution_count": null,
   "metadata": {},
   "outputs": [],
   "source": [
    "AnEn_MDSS_out.shape"
   ]
  },
  {
   "cell_type": "code",
   "execution_count": null,
   "metadata": {},
   "outputs": [],
   "source": [
    "anen_grid = np.empty((EN, N_leads,)+bc_shape)\n",
    "#temp_grid = np.empty(bc_shape)\n",
    "for en in range(EN):\n",
    "    for l in LEADs:\n",
    "        anen_grid[en, l, ocean_mask_bc] = AnEn_MDSS_out[en, l, :]\n",
    "anen_grid[..., land_mask_bc] = np.nan"
   ]
  },
  {
   "cell_type": "markdown",
   "metadata": {},
   "source": [
    "**MDSS**"
   ]
  },
  {
   "cell_type": "code",
   "execution_count": null,
   "metadata": {},
   "outputs": [],
   "source": [
    "AnEn.shape"
   ]
  },
  {
   "cell_type": "code",
   "execution_count": 46,
   "metadata": {},
   "outputs": [],
   "source": [
    "# importing domain information\n",
    "# with h5py.File(save_dir+'BC_domain_info.hdf', 'r') as h5io:\n",
    "#     land_mask = h5io['land_mask_base'][...]\n",
    "#     land_mask_bc = h5io['land_mask_bc'][...]\n",
    "# bc_in_base = np.ones(land_mask.shape).astype(bool)\n",
    "# bc_in_base[bc_inds[0]:bc_inds[1], bc_inds[2]:bc_inds[3]] = land_mask_bc\n",
    "\n",
    "# # subsetting by land mask\n",
    "# bc_shape = land_mask_bc.shape\n",
    "# grid_shape = land_mask.shape\n",
    "# IND_bc = []\n",
    "# for i in range(grid_shape[0]):\n",
    "#     for j in range(grid_shape[1]):\n",
    "#         if ~bc_in_base[i, j]:\n",
    "#             IND_bc.append([i, j])\n",
    "# IND_bc = np.array(IND_bc, dtype=np.int)\n",
    "# N_grids = len(IND_bc)"
   ]
  },
  {
   "cell_type": "code",
   "execution_count": null,
   "metadata": {},
   "outputs": [],
   "source": []
  },
  {
   "cell_type": "code",
   "execution_count": 47,
   "metadata": {},
   "outputs": [],
   "source": [
    "# graph tools\n",
    "import cmaps\n",
    "import cartopy.crs as ccrs\n",
    "import cartopy.mpl.geoaxes\n",
    "import cartopy.feature as cfeature\n",
    "from cartopy.io.shapereader import Reader\n",
    "from cartopy.feature import ShapelyFeature\n",
    "from cartopy.mpl.gridliner import LONGITUDE_FORMATTER, LATITUDE_FORMATTER\n",
    "\n",
    "import matplotlib.pyplot as plt\n",
    "import matplotlib.lines as mlines\n",
    "import matplotlib.colors as colors\n",
    "import matplotlib.patches as patches\n",
    "from matplotlib.collections import PatchCollection\n",
    "\n",
    "from matplotlib import ticker\n",
    "import matplotlib.ticker as mticker\n",
    "import matplotlib.gridspec as gridspec\n",
    "from mpl_toolkits.axes_grid1.inset_locator import inset_axes\n",
    "\n",
    "%matplotlib inline"
   ]
  },
  {
   "cell_type": "code",
   "execution_count": 48,
   "metadata": {},
   "outputs": [
    {
     "data": {
      "image/png": "[encoded data removed]",
      "text/plain": [
       "<Figure size 432x288 with 1 Axes>"
      ]
     },
     "metadata": {
      "needs_background": "light"
     },
     "output_type": "display_data"
    },
    {
     "data": {
      "image/png": "[encoded data removed]",
      "text/plain": [
       "<Figure size 432x288 with 1 Axes>"
      ]
     },
     "metadata": {
      "needs_background": "light"
     },
     "output_type": "display_data"
    },
    {
     "data": {
      "image/png": "[encoded data removed]",
      "text/plain": [
       "<Figure size 432x288 with 1 Axes>"
      ]
     },
     "metadata": {
      "needs_background": "light"
     },
     "output_type": "display_data"
    },
    {
     "data": {
      "image/png": "[encoded data removed]",
      "text/plain": [
       "<Figure size 432x288 with 1 Axes>"
      ]
     },
     "metadata": {
      "needs_background": "light"
     },
     "output_type": "display_data"
    },
    {
     "data": {
      "image/png": "[encoded data removed]",
      "text/plain": [
       "<Figure size 432x288 with 1 Axes>"
      ]
     },
     "metadata": {
      "needs_background": "light"
     },
     "output_type": "display_data"
    }
   ],
   "source": [
    "for i in range(5):\n",
    "    plt.figure()\n",
    "    plt.pcolormesh(lon_bc, lat_bc, anen_grid[5, i, ...], vmin=0, vmax=5, cmap=plt.cm.nipy_spectral_r)"
   ]
  },
  {
   "cell_type": "code",
   "execution_count": null,
   "metadata": {},
   "outputs": [],
   "source": [
    "for i in range(5):\n",
    "    plt.figure()\n",
    "    plt.pcolormesh(lon_bc, lat_bc, anen_grid[5, i, ...], vmin=0, vmax=5, cmap=plt.cm.nipy_spectral_r)"
   ]
  },
  {
   "cell_type": "code",
   "execution_count": null,
   "metadata": {},
   "outputs": [],
   "source": []
  }
 ],
 "metadata": {
  "kernelspec": {
   "display_name": "Python 3",
   "language": "python",
   "name": "python3"
  },
  "language_info": {
   "codemirror_mode": {
    "name": "ipython",
    "version": 3
   },
   "file_extension": ".py",
   "mimetype": "text/x-python",
   "name": "python",
   "nbconvert_exporter": "python",
   "pygments_lexer": "ipython3",
   "version": "3.6.8"
  }
 },
 "nbformat": 4,
 "nbformat_minor": 4
}
