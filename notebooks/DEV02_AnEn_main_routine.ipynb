{
 "cells": [
  {
   "cell_type": "code",
   "execution_count": null,
   "metadata": {},
   "outputs": [],
   "source": []
  },
  {
   "cell_type": "code",
   "execution_count": 1,
   "metadata": {},
   "outputs": [],
   "source": [
    "# sys tools\n",
    "import sys\n",
    "import time\n",
    "import argparse\n",
    "\n",
    "# data tools\n",
    "import h5py\n",
    "import zarr\n",
    "import numpy as np\n",
    "import numba as nb\n",
    "\n",
    "# custom tools\n",
    "sys.path.insert(0, '/glade/u/home/ksha/WORKSPACE/utils/')\n",
    "sys.path.insert(0, '/glade/u/home/ksha/WORKSPACE/Analog_BC/')\n",
    "sys.path.insert(0, '/glade/u/home/ksha/WORKSPACE/Analog_BC/utils/')\n",
    "\n",
    "#import data_utils as du\n",
    "#import analog_utils as ana\n"
   ]
  },
  {
   "cell_type": "code",
   "execution_count": 2,
   "metadata": {},
   "outputs": [],
   "source": [
    "from datetime import datetime"
   ]
  },
  {
   "cell_type": "code",
   "execution_count": 3,
   "metadata": {},
   "outputs": [],
   "source": [
    "sys.path.insert(0, '/glade/u/home/ksha/PUBLISH/WFRT-PP-DEV/')\n",
    "\n",
    "from namelist_casper import * "
   ]
  },
  {
   "cell_type": "code",
   "execution_count": 4,
   "metadata": {},
   "outputs": [],
   "source": [
    "import pygrib"
   ]
  },
  {
   "cell_type": "code",
   "execution_count": null,
   "metadata": {},
   "outputs": [],
   "source": []
  },
  {
   "cell_type": "code",
   "execution_count": 5,
   "metadata": {},
   "outputs": [],
   "source": [
    "def leap_year_checker(y):\n",
    "    if y % 400 == 0:\n",
    "        return True\n",
    "    if y % 100 == 0:\n",
    "        return False\n",
    "    if y % 4 == 0:\n",
    "        return True\n",
    "    else:\n",
    "        return False"
   ]
  },
  {
   "cell_type": "code",
   "execution_count": null,
   "metadata": {},
   "outputs": [],
   "source": []
  },
  {
   "cell_type": "code",
   "execution_count": 6,
   "metadata": {},
   "outputs": [],
   "source": [
    "@nb.njit()\n",
    "def shift_one(arr):\n",
    "    arr[1:] = arr[:-1]\n",
    "    return arr\n",
    "\n",
    "@nb.njit()\n",
    "def search_nearby_days(day, window=30, leap_year=False):\n",
    "    '''\n",
    "    Assuming \"day\" starts at zero\n",
    "    Assuming 2*window < 365 \n",
    "    '''\n",
    "    if leap_year:\n",
    "        N_days = 366\n",
    "        ind_date = np.zeros((N_days,))\n",
    "    else:\n",
    "        N_days = 365\n",
    "        ind_date = np.zeros((N_days,))\n",
    "        \n",
    "    ind_right = day+window+1\n",
    "    ind_left = day-window\n",
    "    \n",
    "    if ind_left >= 0 and ind_right <= N_days:\n",
    "        ind_date[day-window:day+window+1] = True\n",
    "    elif ind_left < 0:\n",
    "        ind_date[0:day+window+1] = True\n",
    "        ind_date[day-window:] = True\n",
    "    else:\n",
    "        ind_diff = day+window+1-N_days\n",
    "        ind_date[day-window:] = True\n",
    "        ind_date[:ind_diff] = True\n",
    "    return ind_date\n",
    "\n",
    "@nb.njit()\n",
    "def analog_search_SL_single_day(day_ini, year_analog, fcst_apcp, fcst_pwat, APCP, PWAT, ERA5, EN, SL_xy, flag_leap_year):\n",
    "    \n",
    "    # params that can be adjusted\n",
    "    #EN = 75 # number of AnEn members\n",
    "    N_SL = 20 # number of suplemental locations\n",
    "    N_grids = fcst_apcp.shape[0] # number of grid points\n",
    "    window_day = 30 # time window (by days) of the analog search \n",
    "    shape_ravel = (2*window_day+1, N_SL)\n",
    "    \n",
    "    # output\n",
    "    AnEn = np.empty((N_grids, EN))\n",
    "    \n",
    "    # allocate single day, grid, and year\n",
    "    day_n = np.empty((EN,), np.int_)\n",
    "    ind_n = np.empty((EN,), np.int_)\n",
    "    year_n = np.empty((EN,), np.int_)\n",
    "    record_n = np.ones((EN,))\n",
    "    day_per_sl = 0\n",
    "    #\n",
    "    # datetime related variables\n",
    "    day_365 = np.arange(365)\n",
    "    day_366 = np.arange(366)\n",
    "    \n",
    "    if flag_leap_year:\n",
    "        mon_ind_all = [ \n",
    "        0,  0,  0,  0,  0,  0,  0,  0,  0,  0,  0,  0,  0,  0,  0,  0,  0,  0,  0,  0,  0,  0,  0,  0,  0,  0,  0,  0,  0,  0,  0, \n",
    "        1,  1,  1,  1,  1,  1,  1,  1,  1,  1,  1,  1,  1,  1,  1,  1,  1,  1,  1,  1,  1,  1,  1,  1,  1,  1,  1,  1,  1, \n",
    "        2,  2,  2,  2,  2,  2,  2,  2,  2,  2,  2,  2,  2,  2,  2,  2,  2,  2,  2,  2,  2,  2,  2,  2,  2,  2,  2,  2,  2,  2,  2,  \n",
    "        3,  3,  3,  3,  3,  3,  3,  3,  3,  3,  3,  3,  3,  3,  3,  3,  3,  3,  3,  3,  3,  3,  3,  3,  3,  3,  3,  3,  3,  3,  \n",
    "        4,  4,  4,  4,  4,  4,  4,  4,  4,  4,  4,  4,  4,  4,  4,  4,  4,  4,  4,  4,  4,  4,  4,  4,  4,  4,  4,  4,  4,  4,  4,\n",
    "        5,  5,  5,  5,  5,  5,  5,  5,  5,  5,  5,  5,  5,  5,  5,  5,  5,  5,  5,  5,  5,  5,  5,  5,  5,  5,  5,  5,  5,  5,  \n",
    "        6,  6,  6,  6,  6,  6,  6,  6,  6,  6,  6,  6,  6,  6,  6,  6,  6,  6,  6,  6,  6,  6,  6,  6,  6,  6,  6,  6,  6,  6,  6, \n",
    "        7,  7,  7,  7,  7,  7,  7,  7,  7,  7,  7,  7,  7,  7,  7,  7,  7,  7,  7,  7,  7,  7,  7,  7,  7,  7,  7,  7,  7,  7,  7,  \n",
    "        8,  8,  8,  8,  8,  8,  8,  8,  8,  8,  8,  8,  8,  8,  8,  8,  8,  8,  8,  8,  8,  8,  8,  8,  8,  8,  8,  8,  8,  8,  \n",
    "        9,  9,  9,  9,  9,  9,  9,  9,  9,  9,  9,  9,  9,  9,  9,  9,  9,  9,  9,  9,  9,  9,  9,  9,  9,  9,  9,  9,  9,  9,  9, \n",
    "        10, 10, 10, 10, 10, 10, 10, 10, 10, 10, 10, 10, 10, 10, 10, 10, 10, 10, 10, 10, 10, 10, 10, 10, 10, 10, 10, 10, 10, 10, \n",
    "        11, 11, 11, 11, 11, 11, 11, 11, 11, 11, 11, 11, 11, 11, 11, 11, 11, 11, 11, 11, 11, 11, 11, 11, 11, 11, 11, 11, 11, 11, 11]\n",
    "    else:\n",
    "        mon_ind_all = [ \n",
    "        0,  0,  0,  0,  0,  0,  0,  0,  0,  0,  0,  0,  0,  0,  0,  0,  0,  0,  0,  0,  0,  0,  0,  0,  0,  0,  0,  0,  0,  0,  0, \n",
    "        1,  1,  1,  1,  1,  1,  1,  1,  1,  1,  1,  1,  1,  1,  1,  1,  1,  1,  1,  1,  1,  1,  1,  1,  1,  1,  1,  1,  \n",
    "        2,  2,  2,  2,  2,  2,  2,  2,  2,  2,  2,  2,  2,  2,  2,  2,  2,  2,  2,  2,  2,  2,  2,  2,  2,  2,  2,  2,  2,  2,  2,  \n",
    "        3,  3,  3,  3,  3,  3,  3,  3,  3,  3,  3,  3,  3,  3,  3,  3,  3,  3,  3,  3,  3,  3,  3,  3,  3,  3,  3,  3,  3,  3,  \n",
    "        4,  4,  4,  4,  4,  4,  4,  4,  4,  4,  4,  4,  4,  4,  4,  4,  4,  4,  4,  4,  4,  4,  4,  4,  4,  4,  4,  4,  4,  4,  4,\n",
    "        5,  5,  5,  5,  5,  5,  5,  5,  5,  5,  5,  5,  5,  5,  5,  5,  5,  5,  5,  5,  5,  5,  5,  5,  5,  5,  5,  5,  5,  5,  \n",
    "        6,  6,  6,  6,  6,  6,  6,  6,  6,  6,  6,  6,  6,  6,  6,  6,  6,  6,  6,  6,  6,  6,  6,  6,  6,  6,  6,  6,  6,  6,  6, \n",
    "        7,  7,  7,  7,  7,  7,  7,  7,  7,  7,  7,  7,  7,  7,  7,  7,  7,  7,  7,  7,  7,  7,  7,  7,  7,  7,  7,  7,  7,  7,  7,  \n",
    "        8,  8,  8,  8,  8,  8,  8,  8,  8,  8,  8,  8,  8,  8,  8,  8,  8,  8,  8,  8,  8,  8,  8,  8,  8,  8,  8,  8,  8,  8,  \n",
    "        9,  9,  9,  9,  9,  9,  9,  9,  9,  9,  9,  9,  9,  9,  9,  9,  9,  9,  9,  9,  9,  9,  9,  9,  9,  9,  9,  9,  9,  9,  9, \n",
    "        10, 10, 10, 10, 10, 10, 10, 10, 10, 10, 10, 10, 10, 10, 10, 10, 10, 10, 10, 10, 10, 10, 10, 10, 10, 10, 10, 10, 10, 10, \n",
    "        11, 11, 11, 11, 11, 11, 11, 11, 11, 11, 11, 11, 11, 11, 11, 11, 11, 11, 11, 11, 11, 11, 11, 11, 11, 11, 11, 11, 11, 11, 11]\n",
    "    \n",
    "    # selecting initialization month, and corresponded SL for all grids\n",
    "    ind_month = mon_ind_all[day_ini]\n",
    "    SL_mon = SL_xy[ind_month]\n",
    "        \n",
    "    # loop over grid points\n",
    "    for n in range(N_grids):\n",
    "        # fcst values\n",
    "        apcp_new = fcst_apcp[n,]\n",
    "        pwat_new = fcst_pwat[n,]\n",
    "            \n",
    "        # initialize analog selction records\n",
    "        record_n[:] = 9999\n",
    "            \n",
    "        # loop over reforecast\n",
    "        for year_ind, year_ana in enumerate(year_analog):\n",
    "                \n",
    "            # the 91-day window of analog search\n",
    "            if year_ana%4 == 0:\n",
    "                flag_analog_days = search_nearby_days(day_ini, window=window_day, leap_year=True)\n",
    "                # True/Flase flag to indices\n",
    "                day_base = day_366[flag_analog_days==1]\n",
    "                \n",
    "            else:\n",
    "                flag_analog_days = search_nearby_days(day_ini, window=window_day, leap_year=False)\n",
    "                day_base = day_365[flag_analog_days==1]\n",
    "                \n",
    "            # sumplemental locations in \"month\" and \"grid n\"\n",
    "            inds_to_inds = SL_mon[n, :] # the input are \"indexed\" vectors, here create an index for the indexed, so it's named as inds_to_inds \n",
    "            \n",
    "            # loop over a single SL (including itself)\n",
    "            for s in range(shape_ravel[1]):\n",
    "                \n",
    "                # sl inds to actual inds\n",
    "                ind_real = inds_to_inds[s]\n",
    "                    \n",
    "                # in place analog search\n",
    "                if s == 0:\n",
    "                    # loop over the time window\n",
    "                    for d in range(shape_ravel[0]):\n",
    "                            \n",
    "                        day_real = int(day_base[d])\n",
    "                        apcp_old = APCP[year_ind][day_real, ind_real]\n",
    "                        pwat_old = PWAT[year_ind][day_real, ind_real]\n",
    "\n",
    "                        # analog criteria\n",
    "                        record_temp = 0.76*np.abs(apcp_old - apcp_new) + 0.24*np.abs(pwat_old - pwat_new)\n",
    "                        \n",
    "                        # if in place analog hit the new record\n",
    "                        if record_temp < record_n[-1]:\n",
    "                            # searchosrt positions\n",
    "                            ind_analog = np.searchsorted(record_n, record_temp)\n",
    "                            # shift one from the position to free space\n",
    "                            day_n[ind_analog:] = shift_one(day_n[ind_analog:])\n",
    "                            ind_n[ind_analog:] = shift_one(ind_n[ind_analog:])\n",
    "                            year_n[ind_analog:] = shift_one(year_n[ind_analog:])\n",
    "                            record_n[ind_analog:] = shift_one(record_n[ind_analog:])\n",
    "                            # insert\n",
    "                            day_n[ind_analog] = day_real\n",
    "                            ind_n[ind_analog] = ind_real\n",
    "                            year_n[ind_analog] = year_ind\n",
    "                            record_n[ind_analog] = record_temp\n",
    "                    \n",
    "                # SL analog search (one analog per year)\n",
    "                else:\n",
    "                    record_per_sl = 9999\n",
    "                    # loop over the time window\n",
    "                    for d in range(shape_ravel[0]):\n",
    "                            \n",
    "                        day_real = int(day_base[d])\n",
    "                        apcp_old = APCP[year_ind][day_real, ind_real]\n",
    "                        pwat_old = PWAT[year_ind][day_real, ind_real]\n",
    "                        \n",
    "                        # analog criteria of 0.7*APCP + 0.3*PWAT\n",
    "                        record_temp = 0.76*np.abs(apcp_old - apcp_new) + 0.24*np.abs(pwat_old - pwat_new)\n",
    "                        # update the best analog of this sl\n",
    "                        if record_temp < record_per_sl:\n",
    "                            record_per_sl = record_temp\n",
    "                            day_per_sl = day_real\n",
    "                        \n",
    "                    # the best SL analog is allowed to participate\n",
    "                    if record_per_sl < record_n[-1]:\n",
    "                        # searchosrt positions\n",
    "                        ind_analog = np.searchsorted(record_n, record_per_sl)\n",
    "\n",
    "                        # shift one from the position to free space\n",
    "                        day_n[ind_analog:] = shift_one(day_n[ind_analog:])\n",
    "                        ind_n[ind_analog:] = shift_one(ind_n[ind_analog:])\n",
    "                        year_n[ind_analog:] = shift_one(year_n[ind_analog:])\n",
    "                        record_n[ind_analog:] = shift_one(record_n[ind_analog:])\n",
    "\n",
    "                        # insert\n",
    "                        day_n[ind_analog] = day_per_sl\n",
    "                        ind_n[ind_analog] = ind_real\n",
    "                        year_n[ind_analog] = year_ind\n",
    "                        record_n[ind_analog] = record_per_sl\n",
    "                            \n",
    "        # back to the grid point loop\n",
    "        # assigning ERA5 based on the (multi-year) reforecast search\n",
    "        for en in range(EN):\n",
    "            AnEn[n, en] = ERA5[year_n[en]][day_n[en], ind_n[en]]\n",
    "    return AnEn"
   ]
  },
  {
   "cell_type": "code",
   "execution_count": 7,
   "metadata": {},
   "outputs": [],
   "source": [
    "# importing domain information\n",
    "# with h5py.File(save_dir+'BC_domain_info.hdf', 'r') as h5io:\n",
    "#     land_mask = h5io['land_mask_base'][...]\n",
    "#     land_mask_bc = h5io['land_mask_bc'][...]\n",
    "# bc_in_base = np.ones(land_mask.shape).astype(bool)\n",
    "# bc_in_base[bc_inds[0]:bc_inds[1], bc_inds[2]:bc_inds[3]] = land_mask_bc\n",
    "\n",
    "# # subsetting by land mask\n",
    "# bc_shape = land_mask_bc.shape\n",
    "# grid_shape = land_mask.shape\n",
    "# IND_bc = []\n",
    "# for i in range(grid_shape[0]):\n",
    "#     for j in range(grid_shape[1]):\n",
    "#         if ~bc_in_base[i, j]:\n",
    "#             IND_bc.append([i, j])\n",
    "# IND_bc = np.array(IND_bc, dtype=np.int)\n",
    "# N_grids = len(IND_bc)"
   ]
  },
  {
   "cell_type": "code",
   "execution_count": null,
   "metadata": {},
   "outputs": [],
   "source": []
  },
  {
   "cell_type": "code",
   "execution_count": 8,
   "metadata": {},
   "outputs": [],
   "source": [
    "# -------- Function ends -------- #\n",
    "\n",
    "# parser = argparse.ArgumentParser()\n",
    "# parser.add_argument('year_fcst', help='year_fcst')\n",
    "# parser.add_argument('part', help='part')\n",
    "# args = vars(parser.parse_args())\n",
    "# year_fcst = int(args['year_fcst'])\n",
    "# part_ = int(args['part'])\n",
    "EN = 25\n",
    "\n",
    "dt_utc_now = datetime.utcnow()\n",
    "dt_fmt_string = datetime.strftime(dt_utc_now, '%Y%m%d')\n",
    "dt_day_of_year = dt_utc_now.timetuple().tm_yday\n",
    "dt_month_from_zero = dt_utc_now.month-1\n",
    "flag_leap_year = leap_year_checker(dt_utc_now.year)\n",
    "\n",
    "# ---------------------------------- #\n",
    "\n",
    "# arg2\n",
    "LEADs = np.arange(0, 54, dtype=np.int)\n",
    "N_leads = len(LEADs)"
   ]
  },
  {
   "cell_type": "code",
   "execution_count": 9,
   "metadata": {},
   "outputs": [],
   "source": [
    "year_analog = np.arange(2000, 2019)\n",
    "\n",
    "# importing domain information\n",
    "with h5py.File(save_dir+'BC_domain_info.hdf', 'r') as h5io:\n",
    "    lat_bc = h5io['bc_lat'][...] # lats of the BC domain\n",
    "    lon_bc = h5io['bc_lon'][...] # lons of the BC domain\n",
    "    land_mask_bc = h5io['land_mask_bc'][...] # selecting OCEAN grids from the BC domain\n",
    "\n",
    "ocean_mask_bc = np.logical_not(land_mask_bc) # selecting LAND grids from the BC domain\n",
    "\n",
    "bc_shape = land_mask_bc.shape\n",
    "N_grids = np.sum(ocean_mask_bc)"
   ]
  },
  {
   "cell_type": "code",
   "execution_count": null,
   "metadata": {},
   "outputs": [],
   "source": []
  },
  {
   "cell_type": "code",
   "execution_count": 10,
   "metadata": {},
   "outputs": [],
   "source": [
    "# supplemental locations\n",
    "SL_xy_dict = {}\n",
    "with h5py.File(save_dir+'SL20_d4_unique.hdf', 'r') as h5io:\n",
    "    #IxIy_unique = h5io['unique_inds'][...]\n",
    "    for i in range(12):\n",
    "        temp = h5io['mon_{}_inds'.format(i)][...]\n",
    "        temp = temp.astype(int)\n",
    "        SL_xy_dict['{}'.format(i)] = temp\n",
    "#IxIy_unique = IxIy_unique.astype(int)\n",
    "SL_xy = tuple(SL_xy_dict.values())"
   ]
  },
  {
   "cell_type": "code",
   "execution_count": 11,
   "metadata": {},
   "outputs": [],
   "source": [
    "AnEn_out = np.empty((N_leads, N_grids, EN))"
   ]
  },
  {
   "cell_type": "code",
   "execution_count": null,
   "metadata": {},
   "outputs": [],
   "source": []
  },
  {
   "cell_type": "code",
   "execution_count": 12,
   "metadata": {},
   "outputs": [],
   "source": [
    "#lead = LEADs[1]\n",
    "for i, lead in enumerate(LEADs):\n",
    "    lead_int_h = int(FCSTs[lead])\n",
    "    #print(\"Processing lead time = {}\".format(lead))\n",
    "    #print(\"Main program starts ...\")\n",
    "    # ------------------------------------------------- #\n",
    "    \n",
    "    # Import reforecast\n",
    "    APCP = ()\n",
    "    PWAT = ()\n",
    "    \n",
    "    for year in year_analog:\n",
    "        apcp_temp = zarr.load(BASE_dir+'BASE_APCP_year{}_lead{}.zarr'.format(year, lead))\n",
    "        pwat_temp = zarr.load(BASE_dir+'BASE_PWAT_year{}_lead{}.zarr'.format(year, lead))\n",
    "        \n",
    "        APCP += (apcp_temp,)\n",
    "        PWAT += (pwat_temp,)\n",
    "        \n",
    "    # ------------------------------------------------- #\n",
    "    \n",
    "    # Import reanalysis\n",
    "    ERA5 = ()\n",
    "    \n",
    "    for year in year_analog:\n",
    "        era_temp = zarr.load(BASE_dir+'BASE_ERA5_year{}_lead{}.zarr'.format(year, lead))\n",
    "        \n",
    "        ERA5 += (era_temp,)\n",
    "        \n",
    "    # ------------------------------------------------- #\n",
    "    \n",
    "    GEFS_dir_base = '/glade/scratch/ksha/DATA/GEFS/{}/'.format(dt_fmt_string)\n",
    "    GEFS_dir_full = GEFS_dir_base+'geavg.t00z.pgrb2s.0p25.f{0:03d}'.format(lead_int_h)\n",
    "    \n",
    "    with pygrib.open(GEFS_dir_full) as grb_io:\n",
    "        #\n",
    "        grb_reader_apcp = grb_io.select(name='Total Precipitation')[0]\n",
    "        apcp, _, _ = grb_reader_apcp.data(lat1=48.25, lat2=60.00, lon1=-141.0+360, lon2=-113.25+360)\n",
    "        apcp = np.flipud(apcp) # GEFS default: kg/m**-2 (or mm) per 3 hours\n",
    "        \n",
    "        #\n",
    "        grb_reader_pwat = grb_io.select(name='Precipitable water')[0]\n",
    "        pwat, _, _ = grb_reader_pwat.data(lat1=48.25, lat2=60.00, lon1=-141.0+360, lon2=-113.25+360)\n",
    "        pwat = np.flipud(pwat) # GEFS default: kg/m**-2 (or mm) per 3 hours\n",
    "    \n",
    "    apcp_flat = apcp[ocean_mask_bc]\n",
    "    pwat_flat = apcp[ocean_mask_bc]\n",
    "    \n",
    "    start_time = time.time()\n",
    "    AnEn = analog_search_SL_single_day(dt_day_of_year, year_analog, apcp_flat, pwat_flat, APCP, PWAT, ERA5, EN, SL_xy, flag_leap_year)\n",
    "    #print(\"... Completed. Time = {} sec \".format((time.time() - start_time)))\n",
    "    \n",
    "    AnEn_out[i, ...] = AnEn"
   ]
  },
  {
   "cell_type": "code",
   "execution_count": 13,
   "metadata": {},
   "outputs": [
    {
     "data": {
      "text/plain": [
       "(54, 2574, 25)"
      ]
     },
     "execution_count": 13,
     "metadata": {},
     "output_type": "execute_result"
    }
   ],
   "source": [
    "AnEn_out.shape"
   ]
  },
  {
   "cell_type": "markdown",
   "metadata": {},
   "source": [
    "# MDSS"
   ]
  },
  {
   "cell_type": "code",
   "execution_count": 14,
   "metadata": {},
   "outputs": [],
   "source": [
    "#@nb.njit()\n",
    "def schaake_shuffle(fcst, traj):\n",
    "    '''\n",
    "    The Schaake shuffle of ensemble `fcst` members\n",
    "    based on given `traj`ectories.\n",
    "    '''\n",
    "    num_traj, N_lead, N_grids = traj.shape\n",
    "    \n",
    "    output = np.empty((N_lead, num_traj, N_grids))\n",
    "    \n",
    "    for l in range(N_lead):\n",
    "        for n in range(N_grids):\n",
    "            \n",
    "            temp_traj = traj[:, l, n]\n",
    "            temp_fcst = fcst[l, :, n]\n",
    "            \n",
    "            reverse_b_func = np.searchsorted(np.sort(temp_traj), temp_traj)\n",
    "            \n",
    "            output[l, :, n] = np.sort(temp_fcst)[reverse_b_func]\n",
    "    return output\n",
    "\n",
    "#@nb.njit()\n",
    "def search_nearby_days(day, window=30, leap_year=False):\n",
    "    '''\n",
    "    Assuming \"day\" starts at zero\n",
    "    Assuming 2*window < 365 \n",
    "    '''\n",
    "    if leap_year:\n",
    "        N_days = 366\n",
    "        ind_date = np.zeros((N_days,))\n",
    "    else:\n",
    "        N_days = 365\n",
    "        ind_date = np.zeros((N_days,))\n",
    "    \n",
    "    ind_right = day+window+1\n",
    "    ind_left = day-window\n",
    "    \n",
    "    if ind_left >= 0 and ind_right <= N_days:\n",
    "        ind_date[day-window:day+window+1] = True\n",
    "    elif ind_left < 0:\n",
    "        ind_date[0:day+window+1] = True\n",
    "        ind_date[day-window:] = True\n",
    "    else:\n",
    "        ind_diff = day+window+1-N_days\n",
    "        ind_date[day-window:] = True\n",
    "        ind_date[:ind_diff] = True\n",
    "    return ind_date\n"
   ]
  },
  {
   "cell_type": "code",
   "execution_count": 43,
   "metadata": {},
   "outputs": [],
   "source": [
    "@nb.njit()\n",
    "def CDF_estimate(X):\n",
    "    '''\n",
    "    input_shape = (members/days, leads, grids)\n",
    "    '''\n",
    "    q_bins = np.array([0.25, 0.5, 0.7, 0.9, 0.95,])  \n",
    "    _, N_fcst, N_grids = X.shape\n",
    "    CDF = np.empty((5, N_fcst, N_grids))\n",
    "    \n",
    "    for lead in range(N_fcst):\n",
    "        for n in range(N_grids):\n",
    "            CDF[:, lead, n] = np.quantile(X[:, lead, n], q_bins)\n",
    "    return CDF\n",
    "\n",
    "@nb.njit()\n",
    "def total_divergence(CDF1, CDF2):\n",
    "    _, N_fcst, N_grids = CDF1.shape\n",
    "    TD = 0\n",
    "    for lead in range(N_fcst):\n",
    "        for n in range(N_grids):\n",
    "            TD += np.sum(np.abs(CDF1[:, lead, n] - CDF2[:, lead, n]))\n",
    "    return TD"
   ]
  },
  {
   "cell_type": "code",
   "execution_count": 16,
   "metadata": {},
   "outputs": [],
   "source": [
    "#@nb.njit()\n",
    "def MDSS_single_day(fcst_raw, era5_H, N, K, factor=15):\n",
    "    '''\n",
    "    MDSS main function\n",
    "    \n",
    "    fcst_raw: fcst field needs to be shuffled. shape=(members, lead, grids, )\n",
    "    era5_H: reference field, assuming ERA5. shape=(members, lead, grids, )\n",
    "    N: number of ensemble members to produce\n",
    "    '''\n",
    "    \n",
    "    CDF_fcst = CDF_estimate(fcst_raw)\n",
    "    CDF_era = CDF_estimate(era5_H)\n",
    "    \n",
    "    # initial total divergence\n",
    "    record = total_divergence(CDF_era, CDF_fcst)\n",
    "    \n",
    "    # stepwise shrinking\n",
    "    ind_pick = np.arange(N, dtype=np.int_) # all available indices\n",
    "    \n",
    "    flag_clean = np.ones((N,), dtype=np.bool_) # output flag\n",
    "    flag_trial = np.copy(flag_clean)\n",
    "    \n",
    "    N_0 = N\n",
    "    \n",
    "    flag_single = False\n",
    "    black_list = []\n",
    "    \n",
    "    while N_0 > K:\n",
    "        # all available candidate\n",
    "        N_0 = np.sum(flag_clean)\n",
    "        ind_candidate = ind_pick[flag_clean]\n",
    "        #print(N_0)\n",
    "        \n",
    "        # randomly selecting candidtes\n",
    "        size_ = int((N_0-K)/(factor))\n",
    "        \n",
    "        if size_ > 5:\n",
    "            ind_ = np.random.choice(range(N_0), size_, replace=False)\n",
    "            for i in ind_:\n",
    "                flag_trial[ind_candidate[i]] = False\n",
    "        else:\n",
    "            flag_single = True\n",
    "            \n",
    "            j = np.random.choice(ind_candidate, size=1)\n",
    "            while j in black_list:\n",
    "                j = np.random.choice(ind_candidate, size=1)\n",
    "                \n",
    "            flag_trial[j] = False\n",
    "            \n",
    "        era5_sub = era5_H[flag_trial, ...]\n",
    "        CDF_era = CDF_estimate(era5_sub)\n",
    "        record_temp = total_divergence(CDF_era, CDF_fcst)\n",
    "        \n",
    "        # stepwise discard\n",
    "        if record_temp < record:\n",
    "            #print('hit: {}'.format(record_temp))\n",
    "            record = record_temp\n",
    "            if flag_single:\n",
    "                flag_clean[j] = False\n",
    "            else:\n",
    "                flag_clean = np.copy(flag_trial)\n",
    "        \n",
    "        else:\n",
    "            #print('miss: {}'.format(record_temp))\n",
    "            if flag_single:\n",
    "                flag_trial[j] = True\n",
    "                black_list.append(j)\n",
    "            else:\n",
    "                flag_trial = np.copy(flag_clean)\n",
    "                \n",
    "    return flag_clean"
   ]
  },
  {
   "cell_type": "code",
   "execution_count": 17,
   "metadata": {},
   "outputs": [],
   "source": [
    "year_mdss = np.arange(2010, 2019)"
   ]
  },
  {
   "cell_type": "code",
   "execution_count": 18,
   "metadata": {},
   "outputs": [
    {
     "name": "stdout",
     "output_type": "stream",
     "text": [
      "... Completed. Time = 171.53706312179565 sec \n"
     ]
    }
   ],
   "source": [
    "start_time = time.time()\n",
    "\n",
    "ERA5_mdss = ()\n",
    "\n",
    "window_day = 30\n",
    "N_days = window_day*2 + 1\n",
    "\n",
    "# loop over years for MDSS training\n",
    "for year in year_mdss:\n",
    "    \n",
    "    # separate leap year\n",
    "    if leap_year_checker(year):\n",
    "        flag_pick = search_nearby_days(dt_day_of_year, window=30, leap_year=True)\n",
    "    else:\n",
    "        flag_pick = search_nearby_days(dt_day_of_year, window=30, leap_year=False)\n",
    "        \n",
    "    flag_pick = flag_pick == 1\n",
    "    era_all_lead = np.empty((N_days, N_grids, N_leads))\n",
    "    \n",
    "    # loop over lead times\n",
    "    for i, lead in enumerate(LEADs):\n",
    "        era_temp = zarr.load(BASE_dir+'BC_ERA5_year{}_lead{}.zarr'.format(year, lead))\n",
    "        era_all_lead[..., i] = era_temp[flag_pick, :]\n",
    "    \n",
    "    ERA5_mdss += (era_all_lead,)\n",
    "\n",
    "ERA5_mdss = np.concatenate(ERA5_mdss)\n",
    "\n",
    "print(\"... Completed. Time = {} sec \".format((time.time() - start_time)))"
   ]
  },
  {
   "cell_type": "code",
   "execution_count": 19,
   "metadata": {},
   "outputs": [],
   "source": [
    "flag_pick = search_nearby_days(dt_day_of_year, window=30, leap_year=True)"
   ]
  },
  {
   "cell_type": "code",
   "execution_count": null,
   "metadata": {},
   "outputs": [],
   "source": []
  },
  {
   "cell_type": "code",
   "execution_count": 20,
   "metadata": {},
   "outputs": [],
   "source": [
    "AnEn_out = np.transpose(AnEn_out, (2, 0, 1))"
   ]
  },
  {
   "cell_type": "code",
   "execution_count": 21,
   "metadata": {},
   "outputs": [],
   "source": [
    "ERA5_mdss = np.transpose(ERA5_mdss, (0, 2, 1))"
   ]
  },
  {
   "cell_type": "code",
   "execution_count": 22,
   "metadata": {},
   "outputs": [
    {
     "data": {
      "text/plain": [
       "(25, 54, 2574)"
      ]
     },
     "execution_count": 22,
     "metadata": {},
     "output_type": "execute_result"
    }
   ],
   "source": [
    "AnEn_out.shape"
   ]
  },
  {
   "cell_type": "code",
   "execution_count": 23,
   "metadata": {},
   "outputs": [
    {
     "data": {
      "text/plain": [
       "(549, 54, 2574)"
      ]
     },
     "execution_count": 23,
     "metadata": {},
     "output_type": "execute_result"
    }
   ],
   "source": [
    "ERA5_mdss.shape"
   ]
  },
  {
   "cell_type": "markdown",
   "metadata": {},
   "source": [
    "We need to cut ~500 to 25 meanwhile minimizing the distribution divergence."
   ]
  },
  {
   "cell_type": "code",
   "execution_count": 24,
   "metadata": {},
   "outputs": [],
   "source": [
    "#CDF_fcst = CDF_estimate(AnEn_out)\n",
    "#CDF_ERA5 = CDF_estimate(ERA5_mdss)\n",
    "#record = total_divergence(CDF_ERA5, CDF_fcst)"
   ]
  },
  {
   "cell_type": "code",
   "execution_count": 94,
   "metadata": {},
   "outputs": [
    {
     "data": {
      "text/plain": [
       "(5, 54, 2574)"
      ]
     },
     "execution_count": 94,
     "metadata": {},
     "output_type": "execute_result"
    }
   ],
   "source": [
    "#CDF_ERA5.shape"
   ]
  },
  {
   "cell_type": "code",
   "execution_count": 29,
   "metadata": {},
   "outputs": [
    {
     "data": {
      "text/plain": [
       "(549, 54, 2574)"
      ]
     },
     "execution_count": 29,
     "metadata": {},
     "output_type": "execute_result"
    }
   ],
   "source": [
    "ERA5_mdss.shape"
   ]
  },
  {
   "cell_type": "code",
   "execution_count": 38,
   "metadata": {},
   "outputs": [
    {
     "name": "stdout",
     "output_type": "stream",
     "text": [
      "initial record: 499056.8863637943\n",
      "dropsize = 104\n",
      "temp record: 499883.79707348894\n",
      "N_0 = 549\n",
      "dropsize = 104\n",
      "temp record: 492337.44349617744\n",
      "N_0 = 445\n",
      "dropsize = 84\n",
      "temp record: 487899.616220221\n",
      "N_0 = 361\n",
      "dropsize = 67\n",
      "temp record: 496164.67902924214\n",
      "N_0 = 361\n",
      "dropsize = 67\n",
      "temp record: 489043.8851853959\n",
      "N_0 = 361\n",
      "dropsize = 67\n",
      "temp record: 492401.90853064036\n",
      "N_0 = 361\n",
      "dropsize = 67\n",
      "temp record: 489546.3989444654\n",
      "N_0 = 361\n",
      "dropsize = 67\n",
      "temp record: 498682.5561202042\n",
      "N_0 = 361\n",
      "dropsize = 67\n",
      "temp record: 482140.65783796826\n",
      "N_0 = 294\n",
      "dropsize = 53\n",
      "temp record: 476929.2879401559\n",
      "N_0 = 241\n",
      "dropsize = 43\n",
      "temp record: 479196.0644637503\n",
      "N_0 = 241\n",
      "dropsize = 43\n",
      "temp record: 468634.57649132214\n",
      "N_0 = 198\n",
      "dropsize = 34\n",
      "temp record: 463166.7250154829\n",
      "N_0 = 164\n",
      "dropsize = 27\n",
      "temp record: 462091.3807271293\n",
      "N_0 = 137\n",
      "dropsize = 22\n",
      "temp record: 468607.5629160963\n",
      "N_0 = 137\n",
      "dropsize = 22\n",
      "temp record: 459498.8385695371\n",
      "N_0 = 115\n",
      "dropsize = 18\n",
      "temp record: 451893.94263808976\n",
      "N_0 = 97\n",
      "dropsize = 14\n",
      "temp record: 451902.5026080828\n",
      "N_0 = 97\n",
      "dropsize = 14\n",
      "temp record: 437214.8840927986\n",
      "N_0 = 83\n",
      "dropsize = 11\n",
      "temp record: 438453.7509564625\n",
      "N_0 = 83\n",
      "dropsize = 11\n",
      "temp record: 426129.72575422016\n",
      "N_0 = 72\n",
      "dropsize = 9\n",
      "temp record: 418937.8795286835\n",
      "N_0 = 63\n",
      "dropsize = 7\n",
      "temp record: 420223.91504715924\n",
      "N_0 = 63\n",
      "dropsize = 7\n",
      "temp record: 426985.31270329613\n",
      "N_0 = 63\n",
      "dropsize = 7\n",
      "temp record: 426080.58732673107\n",
      "N_0 = 63\n",
      "dropsize = 7\n",
      "temp record: 418976.13417790283\n",
      "N_0 = 63\n",
      "dropsize = 7\n",
      "temp record: 407309.234480509\n",
      "N_0 = 56\n",
      "dropsize = 6\n",
      "temp record: 411064.19492298487\n",
      "N_0 = 56\n",
      "dropsize = 6\n",
      "temp record: 415439.9747652889\n",
      "N_0 = 56\n",
      "dropsize = 6\n",
      "temp record: 402885.2455076833\n",
      "N_0 = 50\n",
      "dropsize = 5\n",
      "temp record: 402966.1411647258\n",
      "N_0 = 50\n",
      "dropsize = 5\n",
      "temp record: 405787.4390568586\n",
      "N_0 = 50\n",
      "dropsize = 5\n",
      "temp record: 399463.44330033957\n",
      "N_0 = 49\n",
      "dropsize = 4\n",
      "temp record: 399932.9352910688\n",
      "N_0 = 49\n",
      "dropsize = 4\n"
     ]
    },
    {
     "ename": "KeyboardInterrupt",
     "evalue": "",
     "output_type": "error",
     "traceback": [
      "\u001b[0;31m---------------------------------------------------------------------------\u001b[0m",
      "\u001b[0;31mKeyboardInterrupt\u001b[0m                         Traceback (most recent call last)",
      "\u001b[0;32m<ipython-input-38-17cdff7573c0>\u001b[0m in \u001b[0;36m<module>\u001b[0;34m\u001b[0m\n\u001b[1;32m     55\u001b[0m     \u001b[0;31m# Subtrack the ERA5 CDFs\u001b[0m\u001b[0;34m\u001b[0m\u001b[0;34m\u001b[0m\u001b[0;34m\u001b[0m\u001b[0m\n\u001b[1;32m     56\u001b[0m     \u001b[0mERA5_sub\u001b[0m \u001b[0;34m=\u001b[0m \u001b[0mERA5_mdss\u001b[0m\u001b[0;34m[\u001b[0m\u001b[0mflag_trial\u001b[0m\u001b[0;34m,\u001b[0m \u001b[0;34m...\u001b[0m\u001b[0;34m]\u001b[0m\u001b[0;34m\u001b[0m\u001b[0;34m\u001b[0m\u001b[0m\n\u001b[0;32m---> 57\u001b[0;31m     \u001b[0mCDF_ERA5\u001b[0m \u001b[0;34m=\u001b[0m \u001b[0mCDF_estimate\u001b[0m\u001b[0;34m(\u001b[0m\u001b[0mERA5_sub\u001b[0m\u001b[0;34m)\u001b[0m\u001b[0;34m\u001b[0m\u001b[0;34m\u001b[0m\u001b[0m\n\u001b[0m\u001b[1;32m     58\u001b[0m \u001b[0;34m\u001b[0m\u001b[0m\n\u001b[1;32m     59\u001b[0m     \u001b[0mrecord_temp\u001b[0m \u001b[0;34m=\u001b[0m \u001b[0mtotal_divergence\u001b[0m\u001b[0;34m(\u001b[0m\u001b[0mCDF_ERA5\u001b[0m\u001b[0;34m,\u001b[0m \u001b[0mCDF_fcst\u001b[0m\u001b[0;34m)\u001b[0m\u001b[0;34m\u001b[0m\u001b[0;34m\u001b[0m\u001b[0m\n",
      "\u001b[0;32m<ipython-input-15-ff5fe3905adb>\u001b[0m in \u001b[0;36mCDF_estimate\u001b[0;34m(X)\u001b[0m\n\u001b[1;32m     10\u001b[0m     \u001b[0;32mfor\u001b[0m \u001b[0mlead\u001b[0m \u001b[0;32min\u001b[0m \u001b[0mrange\u001b[0m\u001b[0;34m(\u001b[0m\u001b[0mN_fcst\u001b[0m\u001b[0;34m)\u001b[0m\u001b[0;34m:\u001b[0m\u001b[0;34m\u001b[0m\u001b[0;34m\u001b[0m\u001b[0m\n\u001b[1;32m     11\u001b[0m         \u001b[0;32mfor\u001b[0m \u001b[0mn\u001b[0m \u001b[0;32min\u001b[0m \u001b[0mrange\u001b[0m\u001b[0;34m(\u001b[0m\u001b[0mN_grids\u001b[0m\u001b[0;34m)\u001b[0m\u001b[0;34m:\u001b[0m\u001b[0;34m\u001b[0m\u001b[0;34m\u001b[0m\u001b[0m\n\u001b[0;32m---> 12\u001b[0;31m             \u001b[0mCDF\u001b[0m\u001b[0;34m[\u001b[0m\u001b[0;34m:\u001b[0m\u001b[0;34m,\u001b[0m \u001b[0mlead\u001b[0m\u001b[0;34m,\u001b[0m \u001b[0mn\u001b[0m\u001b[0;34m]\u001b[0m \u001b[0;34m=\u001b[0m \u001b[0mnp\u001b[0m\u001b[0;34m.\u001b[0m\u001b[0mquantile\u001b[0m\u001b[0;34m(\u001b[0m\u001b[0mX\u001b[0m\u001b[0;34m[\u001b[0m\u001b[0;34m:\u001b[0m\u001b[0;34m,\u001b[0m \u001b[0mlead\u001b[0m\u001b[0;34m,\u001b[0m \u001b[0mn\u001b[0m\u001b[0;34m]\u001b[0m\u001b[0;34m,\u001b[0m \u001b[0mq_bins\u001b[0m\u001b[0;34m)\u001b[0m\u001b[0;34m\u001b[0m\u001b[0;34m\u001b[0m\u001b[0m\n\u001b[0m\u001b[1;32m     13\u001b[0m     \u001b[0;32mreturn\u001b[0m \u001b[0mCDF\u001b[0m\u001b[0;34m\u001b[0m\u001b[0;34m\u001b[0m\u001b[0m\n\u001b[1;32m     14\u001b[0m \u001b[0;34m\u001b[0m\u001b[0m\n",
      "\u001b[0;32m<__array_function__ internals>\u001b[0m in \u001b[0;36mquantile\u001b[0;34m(*args, **kwargs)\u001b[0m\n",
      "\u001b[0;32m/glade/work/ksha/py_env_20200417/lib/python3.6/site-packages/numpy/lib/function_base.py\u001b[0m in \u001b[0;36mquantile\u001b[0;34m(a, q, axis, out, overwrite_input, interpolation, keepdims)\u001b[0m\n\u001b[1;32m   3843\u001b[0m         \u001b[0;32mraise\u001b[0m \u001b[0mValueError\u001b[0m\u001b[0;34m(\u001b[0m\u001b[0;34m\"Quantiles must be in the range [0, 1]\"\u001b[0m\u001b[0;34m)\u001b[0m\u001b[0;34m\u001b[0m\u001b[0;34m\u001b[0m\u001b[0m\n\u001b[1;32m   3844\u001b[0m     return _quantile_unchecked(\n\u001b[0;32m-> 3845\u001b[0;31m         a, q, axis, out, overwrite_input, interpolation, keepdims)\n\u001b[0m\u001b[1;32m   3846\u001b[0m \u001b[0;34m\u001b[0m\u001b[0m\n\u001b[1;32m   3847\u001b[0m \u001b[0;34m\u001b[0m\u001b[0m\n",
      "\u001b[0;32m/glade/work/ksha/py_env_20200417/lib/python3.6/site-packages/numpy/lib/function_base.py\u001b[0m in \u001b[0;36m_quantile_unchecked\u001b[0;34m(a, q, axis, out, overwrite_input, interpolation, keepdims)\u001b[0m\n\u001b[1;32m   3851\u001b[0m     r, k = _ureduce(a, func=_quantile_ureduce_func, q=q, axis=axis, out=out,\n\u001b[1;32m   3852\u001b[0m                     \u001b[0moverwrite_input\u001b[0m\u001b[0;34m=\u001b[0m\u001b[0moverwrite_input\u001b[0m\u001b[0;34m,\u001b[0m\u001b[0;34m\u001b[0m\u001b[0;34m\u001b[0m\u001b[0m\n\u001b[0;32m-> 3853\u001b[0;31m                     interpolation=interpolation)\n\u001b[0m\u001b[1;32m   3854\u001b[0m     \u001b[0;32mif\u001b[0m \u001b[0mkeepdims\u001b[0m\u001b[0;34m:\u001b[0m\u001b[0;34m\u001b[0m\u001b[0;34m\u001b[0m\u001b[0m\n\u001b[1;32m   3855\u001b[0m         \u001b[0;32mreturn\u001b[0m \u001b[0mr\u001b[0m\u001b[0;34m.\u001b[0m\u001b[0mreshape\u001b[0m\u001b[0;34m(\u001b[0m\u001b[0mq\u001b[0m\u001b[0;34m.\u001b[0m\u001b[0mshape\u001b[0m \u001b[0;34m+\u001b[0m \u001b[0mk\u001b[0m\u001b[0;34m)\u001b[0m\u001b[0;34m\u001b[0m\u001b[0;34m\u001b[0m\u001b[0m\n",
      "\u001b[0;32m/glade/work/ksha/py_env_20200417/lib/python3.6/site-packages/numpy/lib/function_base.py\u001b[0m in \u001b[0;36m_ureduce\u001b[0;34m(a, func, **kwargs)\u001b[0m\n\u001b[1;32m   3427\u001b[0m         \u001b[0mkeepdim\u001b[0m \u001b[0;34m=\u001b[0m \u001b[0;34m(\u001b[0m\u001b[0;36m1\u001b[0m\u001b[0;34m,\u001b[0m\u001b[0;34m)\u001b[0m \u001b[0;34m*\u001b[0m \u001b[0ma\u001b[0m\u001b[0;34m.\u001b[0m\u001b[0mndim\u001b[0m\u001b[0;34m\u001b[0m\u001b[0;34m\u001b[0m\u001b[0m\n\u001b[1;32m   3428\u001b[0m \u001b[0;34m\u001b[0m\u001b[0m\n\u001b[0;32m-> 3429\u001b[0;31m     \u001b[0mr\u001b[0m \u001b[0;34m=\u001b[0m \u001b[0mfunc\u001b[0m\u001b[0;34m(\u001b[0m\u001b[0ma\u001b[0m\u001b[0;34m,\u001b[0m \u001b[0;34m**\u001b[0m\u001b[0mkwargs\u001b[0m\u001b[0;34m)\u001b[0m\u001b[0;34m\u001b[0m\u001b[0;34m\u001b[0m\u001b[0m\n\u001b[0m\u001b[1;32m   3430\u001b[0m     \u001b[0;32mreturn\u001b[0m \u001b[0mr\u001b[0m\u001b[0;34m,\u001b[0m \u001b[0mkeepdim\u001b[0m\u001b[0;34m\u001b[0m\u001b[0;34m\u001b[0m\u001b[0m\n\u001b[1;32m   3431\u001b[0m \u001b[0;34m\u001b[0m\u001b[0m\n",
      "\u001b[0;32m/glade/work/ksha/py_env_20200417/lib/python3.6/site-packages/numpy/lib/function_base.py\u001b[0m in \u001b[0;36m_quantile_ureduce_func\u001b[0;34m(a, q, axis, out, overwrite_input, interpolation, keepdims)\u001b[0m\n\u001b[1;32m   3969\u001b[0m \u001b[0;34m\u001b[0m\u001b[0m\n\u001b[1;32m   3970\u001b[0m         \u001b[0;31m# ensure axis with q-th is first\u001b[0m\u001b[0;34m\u001b[0m\u001b[0;34m\u001b[0m\u001b[0;34m\u001b[0m\u001b[0m\n\u001b[0;32m-> 3971\u001b[0;31m         \u001b[0mx1\u001b[0m \u001b[0;34m=\u001b[0m \u001b[0mnp\u001b[0m\u001b[0;34m.\u001b[0m\u001b[0mmoveaxis\u001b[0m\u001b[0;34m(\u001b[0m\u001b[0mx1\u001b[0m\u001b[0;34m,\u001b[0m \u001b[0maxis\u001b[0m\u001b[0;34m,\u001b[0m \u001b[0;36m0\u001b[0m\u001b[0;34m)\u001b[0m\u001b[0;34m\u001b[0m\u001b[0;34m\u001b[0m\u001b[0m\n\u001b[0m\u001b[1;32m   3972\u001b[0m         \u001b[0mx2\u001b[0m \u001b[0;34m=\u001b[0m \u001b[0mnp\u001b[0m\u001b[0;34m.\u001b[0m\u001b[0mmoveaxis\u001b[0m\u001b[0;34m(\u001b[0m\u001b[0mx2\u001b[0m\u001b[0;34m,\u001b[0m \u001b[0maxis\u001b[0m\u001b[0;34m,\u001b[0m \u001b[0;36m0\u001b[0m\u001b[0;34m)\u001b[0m\u001b[0;34m\u001b[0m\u001b[0;34m\u001b[0m\u001b[0m\n\u001b[1;32m   3973\u001b[0m \u001b[0;34m\u001b[0m\u001b[0m\n",
      "\u001b[0;32m<__array_function__ internals>\u001b[0m in \u001b[0;36mmoveaxis\u001b[0;34m(*args, **kwargs)\u001b[0m\n",
      "\u001b[0;32m/glade/work/ksha/py_env_20200417/lib/python3.6/site-packages/numpy/core/numeric.py\u001b[0m in \u001b[0;36mmoveaxis\u001b[0;34m(a, source, destination)\u001b[0m\n\u001b[1;32m   1435\u001b[0m \u001b[0;34m\u001b[0m\u001b[0m\n\u001b[1;32m   1436\u001b[0m     \u001b[0;32mfor\u001b[0m \u001b[0mdest\u001b[0m\u001b[0;34m,\u001b[0m \u001b[0msrc\u001b[0m \u001b[0;32min\u001b[0m \u001b[0msorted\u001b[0m\u001b[0;34m(\u001b[0m\u001b[0mzip\u001b[0m\u001b[0;34m(\u001b[0m\u001b[0mdestination\u001b[0m\u001b[0;34m,\u001b[0m \u001b[0msource\u001b[0m\u001b[0;34m)\u001b[0m\u001b[0;34m)\u001b[0m\u001b[0;34m:\u001b[0m\u001b[0;34m\u001b[0m\u001b[0;34m\u001b[0m\u001b[0m\n\u001b[0;32m-> 1437\u001b[0;31m         \u001b[0morder\u001b[0m\u001b[0;34m.\u001b[0m\u001b[0minsert\u001b[0m\u001b[0;34m(\u001b[0m\u001b[0mdest\u001b[0m\u001b[0;34m,\u001b[0m \u001b[0msrc\u001b[0m\u001b[0;34m)\u001b[0m\u001b[0;34m\u001b[0m\u001b[0;34m\u001b[0m\u001b[0m\n\u001b[0m\u001b[1;32m   1438\u001b[0m \u001b[0;34m\u001b[0m\u001b[0m\n\u001b[1;32m   1439\u001b[0m     \u001b[0mresult\u001b[0m \u001b[0;34m=\u001b[0m \u001b[0mtranspose\u001b[0m\u001b[0;34m(\u001b[0m\u001b[0morder\u001b[0m\u001b[0;34m)\u001b[0m\u001b[0;34m\u001b[0m\u001b[0;34m\u001b[0m\u001b[0m\n",
      "\u001b[0;31mKeyboardInterrupt\u001b[0m: "
     ]
    }
   ],
   "source": [
    "N, N_leads, N_grids = ERA5_mdss.shape\n",
    "K = 25 # number of sequences\n",
    "\n",
    "CDF_fcst = CDF_estimate(AnEn_out)\n",
    "CDF_ERA5 = CDF_estimate(ERA5_mdss)\n",
    "\n",
    "# initial total divergence\n",
    "record = total_divergence(CDF_ERA5, CDF_fcst)\n",
    "print('initial record: {}'.format(record))\n",
    "\n",
    "# stepwise shrinking\n",
    "ind_pick = np.arange(N, dtype=np.int_) # all available indices\n",
    "\n",
    "flag_clean = np.ones((N,), dtype=np.bool_) # output (the final pick)\n",
    "flag_trial = np.copy(flag_clean) # temporal trial pick\n",
    "\n",
    "N_0 = N\n",
    "flag_single = False\n",
    "black_list = []\n",
    "factor = 5\n",
    "\n",
    "count_trial = 0\n",
    "\n",
    "while N_0 > K:\n",
    "    \n",
    "    # all available candidate\n",
    "    ind_candidate = ind_pick[flag_clean]\n",
    "    \n",
    "    # Estimate the number to dropout\n",
    "    size_ = int((N_0-K)/(factor))\n",
    "    print('dropsize = {}'.format(size_))\n",
    "    \n",
    "    # If size > 5, perform batch dropout\n",
    "    if size_ > 5:\n",
    "        # generate dropout indices\n",
    "        ind_ = np.random.choice(range(N_0), size_, replace=False)\n",
    "    \n",
    "        # update droput indices to the trial record\n",
    "        for i in ind_:\n",
    "            flag_trial[ind_candidate[i]] = False\n",
    "    \n",
    "    # If size_ <= 5, perform single dropout\n",
    "    else:\n",
    "        flag_single = True\n",
    "    \n",
    "        # generate the index to dropout\n",
    "        j = np.random.choice(ind_candidate, size=1)\n",
    "    \n",
    "        while j in black_list:\n",
    "            j = np.random.choice(ind_candidate, size=1)\n",
    "    \n",
    "        # update the index to the trial record\n",
    "        flag_trial[j] = False\n",
    "    \n",
    "    # Subtrack the ERA5 CDFs\n",
    "    ERA5_sub = ERA5_mdss[flag_trial, ...]\n",
    "    CDF_ERA5 = CDF_estimate(ERA5_sub)\n",
    "    \n",
    "    record_temp = total_divergence(CDF_ERA5, CDF_fcst)\n",
    "    print('temp record: {}'.format(record_temp))\n",
    "    \n",
    "    # stepwise discard\n",
    "    \n",
    "    # if divergence is reduced, update to the final output (clean)\n",
    "    if record_temp < record:\n",
    "        #print('hit: {}'.format(record_temp))\n",
    "        record = record_temp\n",
    "        if flag_single:\n",
    "            flag_clean[j] = False\n",
    "        else:\n",
    "            flag_clean = np.copy(flag_trial)\n",
    "    \n",
    "    # if divergence not reduced, revert to the previous clean record\n",
    "    else:\n",
    "        #print('miss: {}'.format(record_temp))\n",
    "        if flag_single:\n",
    "            flag_trial[j] = True\n",
    "            black_list.append(j)\n",
    "        else:\n",
    "            flag_trial = np.copy(flag_clean)\n",
    "    \n",
    "    N_0 = np.sum(flag_clean)\n",
    "    print('N_0 = {}'.format(N_0))\n",
    "    count_trial += 1"
   ]
  },
  {
   "cell_type": "code",
   "execution_count": 39,
   "metadata": {},
   "outputs": [],
   "source": [
    "ERA5_pick = ERA5_mdss[flag_clean]"
   ]
  },
  {
   "cell_type": "code",
   "execution_count": 40,
   "metadata": {},
   "outputs": [
    {
     "data": {
      "text/plain": [
       "(49, 54, 2574)"
      ]
     },
     "execution_count": 40,
     "metadata": {},
     "output_type": "execute_result"
    }
   ],
   "source": [
    "ERA5_pick.shape"
   ]
  },
  {
   "cell_type": "code",
   "execution_count": 41,
   "metadata": {},
   "outputs": [
    {
     "data": {
      "text/plain": [
       "399463.44330033957"
      ]
     },
     "execution_count": 41,
     "metadata": {},
     "output_type": "execute_result"
    }
   ],
   "source": [
    "CDF_fcst = CDF_estimate(AnEn_out)\n",
    "CDF_ERA5 = CDF_estimate(ERA5_pick)\n",
    "total_divergence(CDF_ERA5, CDF_fcst)"
   ]
  },
  {
   "cell_type": "code",
   "execution_count": 68,
   "metadata": {},
   "outputs": [],
   "source": [
    "@nb.njit()\n",
    "def MDSS_main(ERA5_mdss, AnEn_out, K=25, factor=5):\n",
    "    N, N_leads, N_grids = ERA5_mdss.shape\n",
    "\n",
    "    CDF_fcst = CDF_estimate(AnEn_out)\n",
    "    CDF_ERA5 = CDF_estimate(ERA5_mdss)\n",
    "\n",
    "    # initial total divergence\n",
    "    record = total_divergence(CDF_ERA5, CDF_fcst)\n",
    "\n",
    "    # stepwise shrinking\n",
    "    ind_pick = np.arange(N, dtype=np.int_) # all available indices\n",
    "\n",
    "    flag_clean = np.ones((N,), dtype=np.bool_) # output (the final pick)\n",
    "    flag_trial = np.copy(flag_clean) # temporal trial pick\n",
    "\n",
    "    N_0 = N\n",
    "    flag_single = False\n",
    "    black_list = np.array([9999,])\n",
    "    count_trial = 0\n",
    "\n",
    "    while N_0 > K:\n",
    "\n",
    "        # all available candidate\n",
    "        ind_candidate = ind_pick[flag_clean]\n",
    "\n",
    "        # Estimate the number to dropout\n",
    "        size_ = int((N_0-K)/(factor))\n",
    "\n",
    "        # If size > 5, perform batch dropout\n",
    "        if size_ > 5:\n",
    "            # generate dropout indices\n",
    "            ind_ = np.random.choice(np.arange(N_0), size_, replace=False)\n",
    "\n",
    "            # update droput indices to the trial record\n",
    "            for i in ind_:\n",
    "                flag_trial[ind_candidate[i]] = False\n",
    "\n",
    "        # If size_ <= 5, perform single dropout\n",
    "        else:\n",
    "            flag_single = True\n",
    "\n",
    "            # generate the index to dropout\n",
    "            j = np.random.choice(ind_candidate, size=1)\n",
    "\n",
    "            #while j in black_list:\n",
    "            while np.any(black_list == j):\n",
    "                \n",
    "                j = np.random.choice(ind_candidate, size=1)\n",
    "\n",
    "            # update the index to the trial record\n",
    "            flag_trial[j] = False\n",
    "\n",
    "        # Subtrack the ERA5 CDFs\n",
    "        ERA5_sub = ERA5_mdss[flag_trial, ...]\n",
    "        CDF_ERA5 = CDF_estimate(ERA5_sub)\n",
    "\n",
    "        record_temp = total_divergence(CDF_ERA5, CDF_fcst)\n",
    "        #print('temp record: {}'.format(record_temp))\n",
    "\n",
    "        # stepwise discard\n",
    "\n",
    "        # if divergence is reduced, update to the final output (clean)\n",
    "        if record_temp < record:\n",
    "            #print('hit: {}'.format(record_temp))\n",
    "            record = record_temp\n",
    "            if flag_single:\n",
    "                flag_clean[j] = False\n",
    "            else:\n",
    "                flag_clean = np.copy(flag_trial)\n",
    "\n",
    "        # if divergence not reduced, revert to the previous clean record\n",
    "        else:\n",
    "            #print('miss: {}'.format(record_temp))\n",
    "            if flag_single:\n",
    "                \n",
    "                flag_trial[j] = True\n",
    "                \n",
    "                black_list = np.append(black_list, j)\n",
    "                \n",
    "            else:\n",
    "                flag_trial = np.copy(flag_clean)\n",
    "\n",
    "        N_0 = np.sum(flag_clean)\n",
    "        count_trial += 1\n",
    "        \n",
    "    return flag_clean, count_trial"
   ]
  },
  {
   "cell_type": "code",
   "execution_count": null,
   "metadata": {},
   "outputs": [],
   "source": [
    "flag_clean = MDSS_main(ERA5_mdss, AnEn_out, K=25, factor=5)"
   ]
  },
  {
   "cell_type": "code",
   "execution_count": null,
   "metadata": {},
   "outputs": [],
   "source": []
  },
  {
   "cell_type": "code",
   "execution_count": null,
   "metadata": {},
   "outputs": [],
   "source": []
  },
  {
   "cell_type": "code",
   "execution_count": null,
   "metadata": {},
   "outputs": [],
   "source": []
  },
  {
   "cell_type": "code",
   "execution_count": null,
   "metadata": {},
   "outputs": [],
   "source": []
  },
  {
   "cell_type": "code",
   "execution_count": null,
   "metadata": {},
   "outputs": [],
   "source": []
  },
  {
   "cell_type": "code",
   "execution_count": null,
   "metadata": {},
   "outputs": [],
   "source": []
  },
  {
   "cell_type": "code",
   "execution_count": 89,
   "metadata": {},
   "outputs": [],
   "source": [
    "# for i in range(300):\n",
    "#     plt.figure()\n",
    "#     plt.plot(CDF_AnEn[:, 0, i])\n",
    "#     plt.plot(CDF_ERA5[:, 0, i])"
   ]
  },
  {
   "cell_type": "code",
   "execution_count": null,
   "metadata": {},
   "outputs": [],
   "source": []
  },
  {
   "cell_type": "code",
   "execution_count": null,
   "metadata": {},
   "outputs": [],
   "source": []
  },
  {
   "cell_type": "code",
   "execution_count": null,
   "metadata": {},
   "outputs": [],
   "source": []
  },
  {
   "cell_type": "code",
   "execution_count": 13,
   "metadata": {},
   "outputs": [],
   "source": [
    "anen_grid = np.empty((EN,)+bc_shape)\n",
    "for en in range(EN):\n",
    "    anen_grid[en, ocean_mask_bc] = AnEn[..., en]\n",
    "anen_grid[:, land_mask_bc] = np.nan"
   ]
  },
  {
   "cell_type": "code",
   "execution_count": 14,
   "metadata": {},
   "outputs": [],
   "source": [
    "fcst_grid = np.empty(bc_shape)\n",
    "fcst_grid[ocean_mask_bc] = apcp_flat\n",
    "fcst_grid[land_mask_bc] = np.nan"
   ]
  },
  {
   "cell_type": "markdown",
   "metadata": {},
   "source": [
    "**MDSS**"
   ]
  },
  {
   "cell_type": "code",
   "execution_count": 15,
   "metadata": {},
   "outputs": [
    {
     "data": {
      "text/plain": [
       "(2574, 75)"
      ]
     },
     "execution_count": 15,
     "metadata": {},
     "output_type": "execute_result"
    }
   ],
   "source": [
    "AnEn.shape"
   ]
  },
  {
   "cell_type": "code",
   "execution_count": null,
   "metadata": {},
   "outputs": [],
   "source": []
  },
  {
   "cell_type": "code",
   "execution_count": null,
   "metadata": {},
   "outputs": [],
   "source": []
  },
  {
   "cell_type": "code",
   "execution_count": null,
   "metadata": {},
   "outputs": [],
   "source": []
  },
  {
   "cell_type": "code",
   "execution_count": null,
   "metadata": {},
   "outputs": [],
   "source": []
  },
  {
   "cell_type": "code",
   "execution_count": null,
   "metadata": {},
   "outputs": [],
   "source": []
  },
  {
   "cell_type": "code",
   "execution_count": null,
   "metadata": {},
   "outputs": [],
   "source": []
  },
  {
   "cell_type": "code",
   "execution_count": null,
   "metadata": {},
   "outputs": [],
   "source": []
  },
  {
   "cell_type": "code",
   "execution_count": null,
   "metadata": {},
   "outputs": [],
   "source": []
  },
  {
   "cell_type": "code",
   "execution_count": null,
   "metadata": {},
   "outputs": [],
   "source": []
  },
  {
   "cell_type": "code",
   "execution_count": null,
   "metadata": {},
   "outputs": [],
   "source": []
  },
  {
   "cell_type": "code",
   "execution_count": 68,
   "metadata": {},
   "outputs": [],
   "source": [
    "# graph tools\n",
    "import cmaps\n",
    "import cartopy.crs as ccrs\n",
    "import cartopy.mpl.geoaxes\n",
    "import cartopy.feature as cfeature\n",
    "from cartopy.io.shapereader import Reader\n",
    "from cartopy.feature import ShapelyFeature\n",
    "from cartopy.mpl.gridliner import LONGITUDE_FORMATTER, LATITUDE_FORMATTER\n",
    "\n",
    "import matplotlib.pyplot as plt\n",
    "import matplotlib.lines as mlines\n",
    "import matplotlib.colors as colors\n",
    "import matplotlib.patches as patches\n",
    "from matplotlib.collections import PatchCollection\n",
    "\n",
    "from matplotlib import ticker\n",
    "import matplotlib.ticker as mticker\n",
    "import matplotlib.gridspec as gridspec\n",
    "from mpl_toolkits.axes_grid1.inset_locator import inset_axes\n",
    "\n",
    "%matplotlib inline"
   ]
  },
  {
   "cell_type": "code",
   "execution_count": 27,
   "metadata": {},
   "outputs": [
    {
     "data": {
      "text/plain": [
       "array([[        nan,         nan,         nan, ...,         nan,\n",
       "                nan,         nan],\n",
       "       [        nan,         nan,         nan, ...,         nan,\n",
       "                nan,         nan],\n",
       "       [        nan,         nan,         nan, ...,         nan,\n",
       "                nan,         nan],\n",
       "       ...,\n",
       "       [        nan,         nan,         nan, ...,         nan,\n",
       "                nan,         nan],\n",
       "       [-0.59561527, -0.34249751,  0.69458668, ...,         nan,\n",
       "                nan,         nan],\n",
       "       [-0.16440409,  3.37741359,  2.37081297, ...,         nan,\n",
       "                nan,         nan]])"
      ]
     },
     "execution_count": 27,
     "metadata": {},
     "output_type": "execute_result"
    }
   ],
   "source": [
    "anen_grid[0, ...] - anen_grid[-1, ...]"
   ]
  },
  {
   "cell_type": "code",
   "execution_count": 26,
   "metadata": {},
   "outputs": [
    {
     "data": {
      "text/plain": [
       "<matplotlib.collections.QuadMesh at 0x2b3c685c96a0>"
      ]
     },
     "execution_count": 26,
     "metadata": {},
     "output_type": "execute_result"
    },
    {
     "data": {
      "image/png": "[encoded data removed]",
      "text/plain": [
       "<Figure size 432x288 with 1 Axes>"
      ]
     },
     "metadata": {
      "needs_background": "light"
     },
     "output_type": "display_data"
    }
   ],
   "source": [
    "plt.pcolormesh(lon_bc, lat_bc, anen_grid[-1, ...], vmin=0, vmax=5, cmap=plt.cm.nipy_spectral_r)"
   ]
  },
  {
   "cell_type": "code",
   "execution_count": 22,
   "metadata": {},
   "outputs": [
    {
     "data": {
      "text/plain": [
       "<matplotlib.collections.QuadMesh at 0x2b3c67ba6a90>"
      ]
     },
     "execution_count": 22,
     "metadata": {},
     "output_type": "execute_result"
    },
    {
     "data": {
      "image/png": "[encoded data removed]",
      "text/plain": [
       "<Figure size 432x288 with 1 Axes>"
      ]
     },
     "metadata": {
      "needs_background": "light"
     },
     "output_type": "display_data"
    }
   ],
   "source": [
    "plt.pcolormesh(lon_bc, lat_bc, fcst_grid, vmin=0, vmax=5, cmap=plt.cm.nipy_spectral_r)"
   ]
  },
  {
   "cell_type": "code",
   "execution_count": 58,
   "metadata": {},
   "outputs": [
    {
     "data": {
      "text/plain": [
       "(48, 112)"
      ]
     },
     "execution_count": 58,
     "metadata": {},
     "output_type": "execute_result"
    }
   ],
   "source": [
    "apcp.shape"
   ]
  },
  {
   "cell_type": "code",
   "execution_count": null,
   "metadata": {},
   "outputs": [],
   "source": []
  },
  {
   "cell_type": "code",
   "execution_count": 15,
   "metadata": {},
   "outputs": [],
   "source": [
    "GEFS_dir = '/glade/scratch/ksha/DATA/GEFS/20220114/geavg.t00z.pgrb2s.0p25.f{0:03d}'.format(9)"
   ]
  },
  {
   "cell_type": "code",
   "execution_count": 16,
   "metadata": {},
   "outputs": [
    {
     "data": {
      "text/plain": [
       "'/glade/scratch/ksha/DATA/GEFS/20220114/geavg.t00z.pgrb2s.0p25.f009'"
      ]
     },
     "execution_count": 16,
     "metadata": {},
     "output_type": "execute_result"
    }
   ],
   "source": [
    "GEFS_dir"
   ]
  },
  {
   "cell_type": "code",
   "execution_count": null,
   "metadata": {},
   "outputs": [],
   "source": [
    "\n",
    "\n",
    "\n",
    "    # ------------------------------------------------- #\n",
    "    print(\"AnEn search starts ...\")\n",
    "    start_time = time.time()\n",
    "    AnEn = analog_search_SL(day0, day1, year_analog, fcst_apcp, fcst_pwat, APCP, PWAT, ERA5, SL_xy, IxIy_unique, flag_leap_year)\n",
    "    print(\"... Completed. Time = {} sec \".format((time.time() - start_time)))\n",
    "    \n",
    "#     # ------------------------------------------------- #\n",
    "#     print(\"SG filter starts ...\")\n",
    "#     start_time2 = time.time()\n"
   ]
  },
  {
   "cell_type": "code",
   "execution_count": null,
   "metadata": {},
   "outputs": [],
   "source": []
  },
  {
   "cell_type": "code",
   "execution_count": null,
   "metadata": {},
   "outputs": [],
   "source": []
  }
 ],
 "metadata": {
  "kernelspec": {
   "display_name": "Python 3",
   "language": "python",
   "name": "python3"
  },
  "language_info": {
   "codemirror_mode": {
    "name": "ipython",
    "version": 3
   },
   "file_extension": ".py",
   "mimetype": "text/x-python",
   "name": "python",
   "nbconvert_exporter": "python",
   "pygments_lexer": "ipython3",
   "version": "3.6.8"
  }
 },
 "nbformat": 4,
 "nbformat_minor": 4
}
