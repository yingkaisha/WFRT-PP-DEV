{
 "cells": [
  {
   "cell_type": "code",
   "execution_count": null,
   "metadata": {},
   "outputs": [],
   "source": []
  },
  {
   "cell_type": "code",
   "execution_count": null,
   "metadata": {},
   "outputs": [],
   "source": [
    "import sys\n",
    "import time\n",
    "import os.path\n",
    "from glob import glob\n",
    "from datetime import datetime, timedelta\n",
    "\n",
    "# data tools\n",
    "import h5py\n",
    "import pygrib\n",
    "import numpy as np\n",
    "import numba as nb\n",
    "import pandas as pd\n",
    "import netCDF4 as nc\n",
    "\n",
    "# custom tools\n",
    "sys.path.insert(0, '/glade/u/home/ksha/PUBLISH/WFRT-PP-DEV/')\n",
    "sys.path.insert(0, '/glade/u/home/ksha/PUBLISH/WFRT-PP-DEV/libs/')\n",
    "\n",
    "import utils\n",
    "\n",
    "# !!!! <---- change to your namelist\n",
    "from namelist_casper import * \n",
    "from namelist_plot import *\n",
    "import plot_lib as plib"
   ]
  },
  {
   "cell_type": "code",
   "execution_count": null,
   "metadata": {},
   "outputs": [],
   "source": []
  },
  {
   "cell_type": "code",
   "execution_count": null,
   "metadata": {},
   "outputs": [],
   "source": []
  },
  {
   "cell_type": "code",
   "execution_count": null,
   "metadata": {},
   "outputs": [],
   "source": []
  },
  {
   "cell_type": "code",
   "execution_count": null,
   "metadata": {},
   "outputs": [],
   "source": [
    "BACKUP_dir = '/glade/scratch/ksha/BACKUP/'"
   ]
  },
  {
   "cell_type": "code",
   "execution_count": null,
   "metadata": {},
   "outputs": [],
   "source": [
    "with pd.HDFStore(BACKUP_dir+'BCH_metadata.hdf', 'r') as hdf_temp:\n",
    "    metadata = hdf_temp['metadata']\n",
    "\n",
    "stn_code = metadata['code'].values\n",
    "stn_lat = metadata['lat'].values\n",
    "stn_lon = metadata['lon'].values"
   ]
  },
  {
   "cell_type": "code",
   "execution_count": null,
   "metadata": {},
   "outputs": [],
   "source": [
    "# with pd.HDFStore(BACKUP_dir+'BCH_85_metadata.hdf', 'r') as hdf_temp:\n",
    "#     metadata = hdf_temp['metadata']\n",
    "\n",
    "# stn_code = metadata['code'].values\n",
    "# stn_lat = metadata['lat'].values\n",
    "# stn_lon = metadata['lon'].values"
   ]
  },
  {
   "cell_type": "code",
   "execution_count": null,
   "metadata": {},
   "outputs": [],
   "source": []
  },
  {
   "cell_type": "code",
   "execution_count": null,
   "metadata": {},
   "outputs": [],
   "source": [
    "stn_list = ['LJU', 'STA', 'COQ', 'WAH', 'CMX', 'BCK', 'ELK', 'YVR', 'YRV', 'CRS', 'ING', 'PYN', 'WON', 'YXJ']\n",
    "\n",
    "L = len(stn_code)"
   ]
  },
  {
   "cell_type": "code",
   "execution_count": null,
   "metadata": {},
   "outputs": [],
   "source": [
    "\n",
    "STN_LOCs = {}\n",
    "\n",
    "for i in range(L):\n",
    "    stn_ = stn_code[i]\n",
    "    if stn_ in stn_list:\n",
    "        STN_LOCs[stn_] = (stn_lon[i], stn_lat[i])"
   ]
  },
  {
   "cell_type": "code",
   "execution_count": 7,
   "metadata": {},
   "outputs": [
    {
     "data": {
      "text/plain": [
       "{'BCK': (-123.91388888888889, 48.50333333333333),\n",
       " 'CMX': (-125.09444444444443, 49.643055555555556),\n",
       " 'COQ': (-122.77777777777777, 49.355555555555554),\n",
       " 'CRS': (-116.51666666666667, 49.1),\n",
       " 'ELK': (-125.76416666666667, 49.87277777777778),\n",
       " 'PYN': (-122.6375, 55.35),\n",
       " 'STA': (-122.32638888888889, 49.5575),\n",
       " 'WAH': (-121.61861111111111, 49.231944444444444),\n",
       " 'WON': (-121.8, 56.733333333333334),\n",
       " 'YRV': (-118.18333333333334, 50.96666666666667),\n",
       " 'YVR': (-123.18333333333334, 49.18333333333333),\n",
       " 'YXJ': (-120.73333333333333, 56.233333333333334)}"
      ]
     },
     "execution_count": 7,
     "metadata": {},
     "output_type": "execute_result"
    }
   ],
   "source": [
    "STN_LOCs"
   ]
  },
  {
   "cell_type": "code",
   "execution_count": null,
   "metadata": {},
   "outputs": [],
   "source": []
  },
  {
   "cell_type": "code",
   "execution_count": null,
   "metadata": {},
   "outputs": [],
   "source": []
  },
  {
   "cell_type": "code",
   "execution_count": null,
   "metadata": {},
   "outputs": [],
   "source": []
  },
  {
   "cell_type": "code",
   "execution_count": null,
   "metadata": {},
   "outputs": [],
   "source": [
    "LON_stn = {}\n",
    "LAT_stn = {}\n",
    "\n",
    "for i in range(L):\n",
    "    stn_ = stn_code[i]\n",
    "    if stn_ in stn_list:\n",
    "        LON_stn[stn_] = stn_lon[i]\n",
    "        LAT_stn[stn_] = stn_lat[i]"
   ]
  },
  {
   "cell_type": "code",
   "execution_count": 41,
   "metadata": {},
   "outputs": [],
   "source": [
    "stn_known = list(LON_stn.keys())"
   ]
  },
  {
   "cell_type": "code",
   "execution_count": 54,
   "metadata": {},
   "outputs": [
    {
     "name": "stdout",
     "output_type": "stream",
     "text": [
      "| stn |    lon    |   lat   |\n",
      "|---------------------------|\n",
      "| BCK | -123.9139 | 48.5033 |\n",
      "| CMX | -125.0944 | 49.6431 |\n",
      "| COQ | -122.7778 | 49.3556 |\n",
      "| CRS | -116.5167 | 49.1000 |\n",
      "| ELK | -125.7642 | 49.8728 |\n",
      "| PYN | -122.6375 | 55.3500 |\n",
      "| STA | -122.3264 | 49.5575 |\n",
      "| WAH | -121.6186 | 49.2319 |\n",
      "| WON | -121.8000 | 56.7333 |\n",
      "| YRV | -118.1833 | 50.9667 |\n",
      "| YVR | -123.1833 | 49.1833 |\n",
      "| YXJ | -120.7333 | 56.2333 |\n"
     ]
    }
   ],
   "source": [
    "print('| stn |    lon    |   lat   |\\n|---------------------------|')\n",
    "\n",
    "for i in range(12):\n",
    "    stn_ = stn_known[i]\n",
    "    print('| {} | {:.4f} | {:.4f} |'.format(stn_, LON_stn[stn_], LAT_stn[stn_]))"
   ]
  },
  {
   "cell_type": "code",
   "execution_count": 36,
   "metadata": {},
   "outputs": [
    {
     "data": {
      "text/plain": [
       "12"
      ]
     },
     "execution_count": 36,
     "metadata": {},
     "output_type": "execute_result"
    }
   ],
   "source": [
    "len(LON_stn)"
   ]
  },
  {
   "cell_type": "code",
   "execution_count": null,
   "metadata": {},
   "outputs": [],
   "source": []
  },
  {
   "cell_type": "code",
   "execution_count": null,
   "metadata": {},
   "outputs": [],
   "source": []
  },
  {
   "cell_type": "markdown",
   "metadata": {},
   "source": [
    "|          | 17                  |\n",
    "|:---------|:--------------------|\n",
    "| code     | BCK                 |\n",
    "| name     | Bear Ck. Reservoir  |\n",
    "| lat      | 48.50333333333333   |\n",
    "| lon      | -123.91388888888889 |\n",
    "| elev [m] | 419.0               |\n",
    "|          | 29                  |\n",
    "|:---------|:--------------------|\n",
    "| code     | CMX                 |\n",
    "| name     | Comox Dam forebay   |\n",
    "| lat      | 49.643055555555556  |\n",
    "| lon      | -125.09444444444443 |\n",
    "| elev [m] | 135.0               |\n",
    "|          | 30                     |\n",
    "|:---------|:-----------------------|\n",
    "| code     | COQ                    |\n",
    "| name     | Coquitlam Lake forebay |\n",
    "| lat      | 49.355555555555554     |\n",
    "| lon      | -122.77777777777777    |\n",
    "| elev [m] | 160.0                  |\n",
    "|          | 33                  |\n",
    "|:---------|:--------------------|\n",
    "| code     | CRS                 |\n",
    "| name     | Creston             |\n",
    "| lat      | 49.1                |\n",
    "| lon      | -116.51666666666667 |\n",
    "| elev [m] | 597.0               |\n",
    "|          | 44                        |\n",
    "|:---------|:--------------------------|\n",
    "| code     | ELK                       |\n",
    "| name     | Elk R. above Campbell Lk. |\n",
    "| lat      | 49.87277777777778         |\n",
    "| lon      | -125.76416666666667       |\n",
    "| elev [m] | 270.0                     |\n",
    "|          | 83        |\n",
    "|:---------|:----------|\n",
    "| code     | PYN       |\n",
    "| name     | Pine Pass |\n",
    "| lat      | 55.35     |\n",
    "| lon      | -122.6375 |\n",
    "| elev [m] | 1400.0    |\n",
    "|          | 90                       |\n",
    "|:---------|:-------------------------|\n",
    "| code     | STA                      |\n",
    "| name     | Stave R. above Stave Lk. |\n",
    "| lat      | 49.5575                  |\n",
    "| lon      | -122.32638888888889      |\n",
    "| elev [m] | 330.0                    |\n",
    "|          | 96                    |\n",
    "|:---------|:----------------------|\n",
    "| code     | WAH                   |\n",
    "| name     | Wahleach (Jones) Res. |\n",
    "| lat      | 49.231944444444444    |\n",
    "| lon      | -121.61861111111111   |\n",
    "| elev [m] | 641.0                 |\n",
    "|          | 99                 |\n",
    "|:---------|:-------------------|\n",
    "| code     | WON                |\n",
    "| name     | Wonowon            |\n",
    "| lat      | 56.733333333333334 |\n",
    "| lon      | -121.8             |\n",
    "| elev [m] | 910.0              |\n",
    "|          | 110                   |\n",
    "|:---------|:----------------------|\n",
    "| code     | YRV                   |\n",
    "| name     | REVELSTOKE ARPT (AU5) |\n",
    "| lat      | 50.96666666666667     |\n",
    "| lon      | -118.18333333333334   |\n",
    "| elev [m] | 443.0                 |\n",
    "|          | 111                       |\n",
    "|:---------|:--------------------------|\n",
    "| code     | YVR                       |\n",
    "| name     | VANCOUVER INTL ARPT (WS3) |\n",
    "| lat      | 49.18333333333333         |\n",
    "| lon      | -123.18333333333334       |\n",
    "| elev [m] | 2.0                       |\n",
    "|          | 113                         |\n",
    "|:---------|:----------------------------|\n",
    "| code     | YXJ                         |\n",
    "| name     | FORT ST. JOHN ARPT (W04ATO) |\n",
    "| lat      | 56.233333333333334          |\n",
    "| lon      | -120.73333333333333         |\n",
    "| elev [m] | 695.0                       |"
   ]
  },
  {
   "cell_type": "code",
   "execution_count": null,
   "metadata": {},
   "outputs": [],
   "source": [
    "ELK is ECL"
   ]
  },
  {
   "cell_type": "code",
   "execution_count": 15,
   "metadata": {},
   "outputs": [],
   "source": [
    "import pandas as pd"
   ]
  },
  {
   "cell_type": "code",
   "execution_count": 16,
   "metadata": {},
   "outputs": [],
   "source": [
    "name_excel = '/glade/scratch/ksha/BACKUP/BCH_RAW_Files/BCH_instruments.xlsx'\n",
    "pd_info = pd.read_excel(name_excel, sheet_name=None)"
   ]
  },
  {
   "cell_type": "code",
   "execution_count": 24,
   "metadata": {},
   "outputs": [
    {
     "data": {
      "text/plain": [
       "HFG                                                                ECL (formerly ELK)\n",
       "Halfway River above Graham River                            Elk R. above Campbell Lk.\n",
       "56.50834                                                                      49.8728\n",
       "-122.241                                                                     -125.764\n",
       "657                                                                               270\n",
       "OTT_Pluvio 2_750mm                  Standpipe_PVC_green/metalWrap ; HONEYWELL_SENS...\n",
       "Name: 33, dtype: object"
      ]
     },
     "execution_count": 24,
     "metadata": {},
     "output_type": "execute_result"
    }
   ],
   "source": [
    "pd_info['Sheet1'].iloc[33]"
   ]
  },
  {
   "cell_type": "code",
   "execution_count": 23,
   "metadata": {},
   "outputs": [
    {
     "name": "stdout",
     "output_type": "stream",
     "text": [
      "MSK-0\n",
      "PKA-1\n",
      "PMD-2\n",
      "SKI-3\n",
      "TNS-4\n",
      "WCC-5\n",
      "WRU-6\n",
      "AKI-7\n",
      "AKN-8\n",
      "ALU-9\n",
      "ASH-10\n",
      "BAR-11\n",
      "BIR-12\n",
      "BLN-13\n",
      "BMN-14\n",
      "BRI-15\n",
      "BUL-16\n",
      "BVR-17\n",
      "CHK-18\n",
      "CHW-19\n",
      "CLO-20\n",
      "CLW-21\n",
      "CMX-22\n",
      "COQ-23\n",
      "COX-24\n",
      "CQM-25\n",
      "DAI-26\n",
      "DBC-27\n",
      "DCN-28\n",
      "DLU-29\n",
      "DON-30\n",
      "DOW-31\n",
      "EAC-32\n",
      "ECL (formerly ELK)-33\n",
      "ERF (formerly ELR)-34\n",
      "ERC-35\n",
      "FDL-36\n",
      "FER-37\n",
      "FIN-38\n",
      "FLK-39\n",
      "FST-40\n",
      "GLD-41\n",
      "GOC-42\n",
      "GOL-43\n",
      "GRN-44\n",
      "GRP-45\n",
      "GRT-46\n",
      "HEB-47\n",
      "HFF-48\n",
      "HRN-49\n",
      "HUR-50\n",
      "ILL-51\n",
      "JHT-52\n",
      "KEY-53\n",
      "MCQ-54\n",
      "MIS-55\n",
      "MOB-56\n",
      "MOL-57\n",
      "MOR-58\n",
      "MTR-59\n",
      "NTY-60\n",
      "PAK-61\n",
      "PAR-62\n",
      "PNK-63\n",
      "PRS-64\n",
      "PUL-65\n",
      "PYN-66\n",
      "QBY-67\n",
      "SGL-68\n",
      "SHH-69\n",
      "SLK-70\n",
      "STA-71\n",
      "STV-72\n",
      "UCE-73\n",
      "WAH-74\n",
      "WOL-75\n",
      "WON-76\n",
      "YGS-77\n",
      "KWA-78\n"
     ]
    }
   ],
   "source": [
    "for i in range(79):\n",
    "    \n",
    "    print('{}-{}'.format(code_extra[i], i))"
   ]
  },
  {
   "cell_type": "code",
   "execution_count": null,
   "metadata": {},
   "outputs": [],
   "source": []
  },
  {
   "cell_type": "code",
   "execution_count": null,
   "metadata": {},
   "outputs": [],
   "source": []
  },
  {
   "cell_type": "code",
   "execution_count": null,
   "metadata": {},
   "outputs": [],
   "source": []
  }
 ],
 "metadata": {
  "kernelspec": {
   "display_name": "Python 3",
   "language": "python",
   "name": "python3"
  },
  "language_info": {
   "codemirror_mode": {
    "name": "ipython",
    "version": 3
   },
   "file_extension": ".py",
   "mimetype": "text/x-python",
   "name": "python",
   "nbconvert_exporter": "python",
   "pygments_lexer": "ipython3",
   "version": "3.6.8"
  }
 },
 "nbformat": 4,
 "nbformat_minor": 4
}
