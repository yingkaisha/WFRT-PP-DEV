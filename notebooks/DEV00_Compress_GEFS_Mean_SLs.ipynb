{
 "cells": [
  {
   "cell_type": "code",
   "execution_count": 1,
   "metadata": {},
   "outputs": [],
   "source": [
    "import sys\n",
    "import time\n",
    "import os.path\n",
    "from glob import glob\n",
    "from datetime import datetime, timedelta\n",
    "\n",
    "# data tools\n",
    "import h5py\n",
    "import numpy as np\n",
    "import numba as nb\n",
    "import pandas as pd\n",
    "import netCDF4 as nc\n",
    "\n",
    "# custom tools\n",
    "sys.path.insert(0, '/glade/u/home/ksha/PUBLISH/WFRT-PP-DEV/')\n",
    "\n",
    "from namelist_casper import * "
   ]
  },
  {
   "cell_type": "markdown",
   "metadata": {},
   "source": [
    "#### SL indices\n",
    "\n",
    "* `IxIy_unique`: a 2-d array of `(indx, indy)`; it extracts grid points that are needed for AnEn-SL\n",
    "\n",
    "* `SL_xy`: a tuple of 12 arrays; one array per month. Each array has `(2574, 20)` elements. `2574` is the total number of BC grid points; `20` represents a BC grid point and its 19 SLs. Array values are indics of `IxIy_unique`\n",
    "\n",
    "* NA West grids -- (`IxIy_unique`) --> unique grids for AnEn -- (`SL_xy`) --> SLs, multiple BC grids can have the same SLs. "
   ]
  },
  {
   "cell_type": "code",
   "execution_count": 2,
   "metadata": {},
   "outputs": [],
   "source": [
    "# supplemental locations\n",
    "SL_xy_dict = {}\n",
    "with h5py.File(save_dir+'SL20_d4_unique.hdf', 'r') as h5io:\n",
    "    IxIy_unique = h5io['unique_inds'][...]\n",
    "    for i in range(12):\n",
    "        temp = h5io['mon_{}_inds'.format(i)][...]\n",
    "        temp = temp.astype(int)\n",
    "        SL_xy_dict['{}'.format(i)] = temp\n",
    "IxIy_unique = IxIy_unique.astype(int)\n",
    "SL_xy = tuple(SL_xy_dict.values())"
   ]
  },
  {
   "cell_type": "code",
   "execution_count": 3,
   "metadata": {},
   "outputs": [
    {
     "data": {
      "text/plain": [
       "12"
      ]
     },
     "execution_count": 3,
     "metadata": {},
     "output_type": "execute_result"
    }
   ],
   "source": [
    "len(SL_xy)"
   ]
  },
  {
   "cell_type": "code",
   "execution_count": 4,
   "metadata": {},
   "outputs": [
    {
     "data": {
      "text/plain": [
       "(7641, 2)"
      ]
     },
     "execution_count": 4,
     "metadata": {},
     "output_type": "execute_result"
    }
   ],
   "source": [
    "IxIy_unique.shape"
   ]
  },
  {
   "cell_type": "code",
   "execution_count": 5,
   "metadata": {},
   "outputs": [],
   "source": [
    "year = 2000\n",
    "lead = 2\n",
    "\n",
    "with h5py.File(REFCST_dir+'En_mean_APCP_{}.hdf'.format(year), 'r') as h5io:\n",
    "    apcp_temp = h5io['base_mean'][:, lead, ...][..., IxIy_unique[:, 0], IxIy_unique[:, 1]]\n",
    "with h5py.File(REFCST_dir+'En_mean_PWAT_{}.hdf'.format(year), 'r') as h5io:\n",
    "    pwat_temp = h5io['base_mean'][:, lead, ...][..., IxIy_unique[:, 0], IxIy_unique[:, 1]]"
   ]
  },
  {
   "cell_type": "code",
   "execution_count": 6,
   "metadata": {},
   "outputs": [
    {
     "data": {
      "text/plain": [
       "(366, 7641)"
      ]
     },
     "execution_count": 6,
     "metadata": {},
     "output_type": "execute_result"
    }
   ],
   "source": [
    "apcp_temp.shape"
   ]
  },
  {
   "cell_type": "code",
   "execution_count": 7,
   "metadata": {},
   "outputs": [
    {
     "data": {
      "text/plain": [
       "(2574, 20)"
      ]
     },
     "execution_count": 7,
     "metadata": {},
     "output_type": "execute_result"
    }
   ],
   "source": [
    "SL_xy[0].shape"
   ]
  },
  {
   "cell_type": "code",
   "execution_count": 8,
   "metadata": {},
   "outputs": [
    {
     "data": {
      "text/plain": [
       "array([1626, 2180,  807, 1415, 1268, 2118, 2721, 3547, 2583, 1022,  533,\n",
       "        922, 1987,  357, 1857, 1229,  437, 3886, 4470, 1694])"
      ]
     },
     "execution_count": 8,
     "metadata": {},
     "output_type": "execute_result"
    }
   ],
   "source": [
    "SL_xy[0][0, :]"
   ]
  },
  {
   "cell_type": "markdown",
   "metadata": {},
   "source": [
    "**AnEn mean** --> mapped by IxIy_unique --> Save as Zarr per year per lead time"
   ]
  },
  {
   "cell_type": "markdown",
   "metadata": {},
   "source": [
    "### Test on Zarr"
   ]
  },
  {
   "cell_type": "code",
   "execution_count": 9,
   "metadata": {},
   "outputs": [],
   "source": [
    "import zarr"
   ]
  },
  {
   "cell_type": "code",
   "execution_count": 10,
   "metadata": {},
   "outputs": [],
   "source": [
    "zarr.save('test.zarr', apcp_temp)"
   ]
  },
  {
   "cell_type": "code",
   "execution_count": 11,
   "metadata": {},
   "outputs": [],
   "source": [
    "np.save('test.npy', apcp_temp)"
   ]
  },
  {
   "cell_type": "code",
   "execution_count": 12,
   "metadata": {},
   "outputs": [],
   "source": [
    "test_zarr = zarr.load('test.zarr')"
   ]
  },
  {
   "cell_type": "markdown",
   "metadata": {},
   "source": [
    "### Scripts\n",
    "\n",
    "This notebook is now `En_mean_compress.py`"
   ]
  },
  {
   "cell_type": "code",
   "execution_count": null,
   "metadata": {},
   "outputs": [],
   "source": []
  }
 ],
 "metadata": {
  "kernelspec": {
   "display_name": "Python 3",
   "language": "python",
   "name": "python3"
  },
  "language_info": {
   "codemirror_mode": {
    "name": "ipython",
    "version": 3
   },
   "file_extension": ".py",
   "mimetype": "text/x-python",
   "name": "python",
   "nbconvert_exporter": "python",
   "pygments_lexer": "ipython3",
   "version": "3.6.8"
  }
 },
 "nbformat": 4,
 "nbformat_minor": 4
}
