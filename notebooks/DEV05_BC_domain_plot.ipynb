{
 "cells": [
  {
   "cell_type": "code",
   "execution_count": null,
   "metadata": {},
   "outputs": [],
   "source": []
  },
  {
   "cell_type": "code",
   "execution_count": 1,
   "metadata": {},
   "outputs": [],
   "source": [
    "import sys\n",
    "import time\n",
    "import os.path\n",
    "from glob import glob\n",
    "from datetime import datetime, timedelta\n",
    "\n",
    "# data tools\n",
    "import h5py\n",
    "import pygrib\n",
    "import numpy as np\n",
    "import numba as nb\n",
    "import pandas as pd\n",
    "import netCDF4 as nc\n",
    "\n",
    "# custom tools\n",
    "sys.path.insert(0, '/glade/u/home/ksha/PUBLISH/WFRT-PP-DEV/')\n",
    "sys.path.insert(0, '/glade/u/home/ksha/PUBLISH/WFRT-PP-DEV/libs/')\n",
    "\n",
    "import utils\n",
    "\n",
    "# !!!! <---- change to your namelist\n",
    "from namelist_casper import * \n",
    "from namelist_plot import *\n",
    "import plot_lib as plib"
   ]
  },
  {
   "cell_type": "code",
   "execution_count": null,
   "metadata": {},
   "outputs": [],
   "source": []
  },
  {
   "cell_type": "code",
   "execution_count": 2,
   "metadata": {},
   "outputs": [
    {
     "data": {
      "text/plain": [
       "<module 'utils' from '/glade/u/home/ksha/PUBLISH/WFRT-PP-DEV/libs/utils.py'>"
      ]
     },
     "execution_count": 2,
     "metadata": {},
     "output_type": "execute_result"
    }
   ],
   "source": [
    "import importlib\n",
    "importlib.reload(utils)"
   ]
  },
  {
   "cell_type": "code",
   "execution_count": 29,
   "metadata": {},
   "outputs": [
    {
     "data": {
      "text/plain": [
       "<module 'plot_lib' from '/glade/u/home/ksha/PUBLISH/WFRT-PP-DEV/libs/plot_lib.py'>"
      ]
     },
     "execution_count": 29,
     "metadata": {},
     "output_type": "execute_result"
    }
   ],
   "source": [
    "importlib.reload(plib)"
   ]
  },
  {
   "cell_type": "code",
   "execution_count": 31,
   "metadata": {},
   "outputs": [],
   "source": [
    "#importlib.reload(namelist_plot)\n",
    "from namelist_plot import *"
   ]
  },
  {
   "cell_type": "code",
   "execution_count": 5,
   "metadata": {},
   "outputs": [],
   "source": [
    "# graph tools\n",
    "import cmaps\n",
    "import cartopy.crs as ccrs\n",
    "import cartopy.mpl.geoaxes\n",
    "import cartopy.feature as cfeature\n",
    "from cartopy.io.shapereader import Reader\n",
    "from cartopy.feature import ShapelyFeature\n",
    "from cartopy.mpl.gridliner import LONGITUDE_FORMATTER, LATITUDE_FORMATTER\n",
    "\n",
    "import matplotlib.pyplot as plt\n",
    "import matplotlib.lines as mlines\n",
    "import matplotlib.colors as mcolors\n",
    "import matplotlib.patches as patches\n",
    "from matplotlib.collections import PatchCollection\n",
    "\n",
    "from matplotlib import ticker\n",
    "import matplotlib.ticker as mticker\n",
    "import matplotlib.gridspec as gridspec\n",
    "from mpl_toolkits.axes_grid1.inset_locator import inset_axes\n",
    "\n",
    "%matplotlib inline"
   ]
  },
  {
   "cell_type": "code",
   "execution_count": 6,
   "metadata": {},
   "outputs": [],
   "source": [
    "need_publish = False\n",
    "\n",
    "# True: publication quality figures\n",
    "# False: low resolution figures in the notebook\n",
    "\n",
    "if need_publish:\n",
    "    dpi_ = fig_keys['dpi']\n",
    "else:\n",
    "    dpi_ = 75"
   ]
  },
  {
   "cell_type": "markdown",
   "metadata": {},
   "source": [
    "**Datetime**"
   ]
  },
  {
   "cell_type": "code",
   "execution_count": 7,
   "metadata": {},
   "outputs": [],
   "source": [
    "dt_fmt = '20220413'\n",
    "if dt_fmt == 'auto':\n",
    "    dt_utc_now = datetime.utcnow()\n",
    "    dt_fmt_string = datetime.strftime(dt_utc_now, '%Y%m%d')\n",
    "else:\n",
    "    dt_fmt_string = dt_fmt\n",
    "    dt_utc_now = datetime.strptime(dt_fmt_string, '%Y%m%d')"
   ]
  },
  {
   "cell_type": "markdown",
   "metadata": {},
   "source": [
    "**Geo-data**"
   ]
  },
  {
   "cell_type": "code",
   "execution_count": 8,
   "metadata": {},
   "outputs": [],
   "source": [
    "with h5py.File(path_domain_namelist, 'r') as h5io:\n",
    "    lat_bc = h5io['bc_lat'][...] # lats of the BC domain\n",
    "    lon_bc = h5io['bc_lon'][...] # lons of the BC domain\n",
    "    lon_4km = h5io['lon_4km'][...]\n",
    "    lat_4km = h5io['lat_4km'][...]\n",
    "    land_mask_bc = h5io['land_mask_bc'][...] # selecting OCEAN grids from the BC domain\n",
    "    land_mask_bc_4km = h5io['land_mask_bc_4km'][...]\n",
    "# ocean_mask_bc = np.logical_not(land_mask_bc) # selecting LAND grids from the BC domain\n",
    "grid_shape = lon_bc.shape\n",
    "\n",
    "# US states and CAN-US boundary\n",
    "PROVINCE = cfeature.NaturalEarthFeature(\n",
    "    category='cultural',\n",
    "    name='admin_1_states_provinces_lines',\n",
    "    scale=scale_param,\n",
    "    facecolor='none')\n"
   ]
  },
  {
   "cell_type": "code",
   "execution_count": 9,
   "metadata": {},
   "outputs": [],
   "source": [
    "name_list = ['United States of America']\n",
    "geom_US = plib.get_country_geom(name_list, scale_param)"
   ]
  },
  {
   "cell_type": "markdown",
   "metadata": {},
   "source": [
    "**GEFS outputs**"
   ]
  },
  {
   "cell_type": "code",
   "execution_count": 10,
   "metadata": {},
   "outputs": [],
   "source": [
    "output_dir = output_dir_namelist.format(dt_fmt_string)\n",
    "name_output = filename_CNN_output_namelist.format(dt_fmt_string)\n",
    "\n",
    "with h5py.File(output_dir+name_output, 'r') as h5io:\n",
    "    CNN_output = h5io['gefs_apcp'][...]\n",
    "    \n",
    "CNN_output[..., land_mask_bc] = np.nan"
   ]
  },
  {
   "cell_type": "code",
   "execution_count": null,
   "metadata": {},
   "outputs": [],
   "source": []
  },
  {
   "cell_type": "code",
   "execution_count": 11,
   "metadata": {},
   "outputs": [
    {
     "name": "stdout",
     "output_type": "stream",
     "text": [
      "Process lead time ind: 0\n",
      "Process lead time ind: 1\n",
      "Process lead time ind: 2\n",
      "Process lead time ind: 3\n",
      "Process lead time ind: 4\n",
      "Process lead time ind: 5\n",
      "Process lead time ind: 6\n",
      "Process lead time ind: 7\n",
      "Process lead time ind: 8\n",
      "Process lead time ind: 9\n",
      "Process lead time ind: 10\n",
      "Process lead time ind: 11\n",
      "Process lead time ind: 12\n",
      "Process lead time ind: 13\n",
      "Process lead time ind: 14\n",
      "Process lead time ind: 15\n",
      "Process lead time ind: 16\n",
      "Process lead time ind: 17\n",
      "Process lead time ind: 18\n",
      "Process lead time ind: 19\n",
      "Process lead time ind: 20\n",
      "Process lead time ind: 21\n",
      "Process lead time ind: 22\n",
      "Process lead time ind: 23\n",
      "Process lead time ind: 24\n",
      "Process lead time ind: 25\n",
      "Process lead time ind: 26\n",
      "Process lead time ind: 27\n",
      "Process lead time ind: 28\n",
      "Process lead time ind: 29\n",
      "Process lead time ind: 30\n",
      "Process lead time ind: 31\n",
      "Process lead time ind: 32\n",
      "Process lead time ind: 33\n",
      "Process lead time ind: 34\n",
      "Process lead time ind: 35\n",
      "Process lead time ind: 36\n",
      "Process lead time ind: 37\n",
      "Process lead time ind: 38\n",
      "Process lead time ind: 39\n",
      "Process lead time ind: 40\n",
      "Process lead time ind: 41\n",
      "Process lead time ind: 42\n",
      "Process lead time ind: 43\n",
      "Process lead time ind: 44\n",
      "Process lead time ind: 45\n",
      "Process lead time ind: 46\n",
      "Process lead time ind: 47\n",
      "Process lead time ind: 48\n",
      "Process lead time ind: 49\n",
      "Process lead time ind: 50\n",
      "Process lead time ind: 51\n",
      "Process lead time ind: 52\n",
      "Process lead time ind: 53\n"
     ]
    }
   ],
   "source": [
    "GEFS_raw = np.empty((ensemble_mumberp_raw_gefs_namelist+1, N_leads_namelist)+grid_shape)\n",
    "\n",
    "# GEFS file path creation\n",
    "GEFS_dir_base = path_gefs_member_namelist.format(dt_fmt_string)\n",
    "\n",
    "for i, lead_ in enumerate(FCSTs_namelist):\n",
    "\n",
    "    #print(\"Process lead time ind: {}\".format(i))\n",
    "    \n",
    "    for member_ in range(ensemble_mumberp_raw_gefs_namelist+1):\n",
    "        \n",
    "        if member_ == 0:\n",
    "            filename_ = filename_memberc_namelist.format(member_, int(lead_))\n",
    "        else:\n",
    "            filename_ = filename_memberp_namelist.format(member_, int(lead_))\n",
    "    \n",
    "        GEFS_dir_full = GEFS_dir_base+filename_\n",
    "\n",
    "        with pygrib.open(GEFS_dir_full) as grb_io:\n",
    "            grb_reader_apcp = grb_io.select(name='Total Precipitation')[0]\n",
    "            apcp, _, _ = grb_reader_apcp.data(lat1=48.25, lat2=60.00, lon1=-141.0+360, lon2=-113.25+360)\n",
    "        \n",
    "        apcp = np.flipud(apcp)\n",
    "        GEFS_raw[member_, i, ...] = apcp"
   ]
  },
  {
   "cell_type": "code",
   "execution_count": 12,
   "metadata": {},
   "outputs": [],
   "source": [
    "GEFS_raw[..., land_mask_bc] = np.nan"
   ]
  },
  {
   "cell_type": "code",
   "execution_count": 13,
   "metadata": {},
   "outputs": [],
   "source": [
    "DATA = {}"
   ]
  },
  {
   "cell_type": "code",
   "execution_count": 14,
   "metadata": {},
   "outputs": [],
   "source": [
    "LEADs_3H_ind = np.arange(0, N_leads_namelist, dtype=np.int)\n",
    "LEADs_3H_hrs = np.arange(9.0, 24*7+3, 3)[:N_leads_namelist]\n",
    "\n",
    "DATA['CNN_3_P10'] = np.quantile(CNN_output, 0.1, axis=0)\n",
    "DATA['CNN_3_P50'] = np.quantile(CNN_output, 0.5, axis=0)\n",
    "DATA['CNN_3_P90'] = np.quantile(CNN_output, 0.9, axis=0)\n",
    "\n",
    "DATA['GEFS_3_P10'] = np.quantile(GEFS_raw, 0.1, axis=0)\n",
    "DATA['GEFS_3_P50'] = np.quantile(GEFS_raw, 0.5, axis=0)\n",
    "DATA['GEFS_3_P90'] = np.quantile(GEFS_raw, 0.9, axis=0)"
   ]
  },
  {
   "cell_type": "code",
   "execution_count": 15,
   "metadata": {},
   "outputs": [],
   "source": [
    "accum_window = 8 # 8x3h = 1 day\n",
    "output_freq = 2 # 2x3h = 6h per output\n",
    "skip_start = 1 # skip the first 3hr, start from 12hr instead of 9hr \n",
    "\n",
    "CNN_accum_24, inds_start, inds_end = utils.accum_slide_window(CNN_output, accum_window, output_freq, skip_start)\n",
    "CNN_accum_24[..., land_mask_bc] = np.nan\n",
    "\n",
    "LEADs_24H_hrs = LEADs_3H_hrs[inds_end]\n",
    "\n",
    "GEFS_accum_24, inds_start, inds_end = utils.accum_slide_window(GEFS_raw, accum_window, output_freq, skip_start)\n",
    "GEFS_accum_24[..., land_mask_bc] = np.nan\n",
    "\n",
    "DATA['CNN_24_P10'] = np.quantile(CNN_accum_24, 0.1, axis=0)\n",
    "DATA['CNN_24_P50'] = np.quantile(CNN_accum_24, 0.5, axis=0)\n",
    "DATA['CNN_24_P90'] = np.quantile(CNN_accum_24, 0.9, axis=0)\n",
    "\n",
    "DATA['GEFS_24_P10'] = np.quantile(GEFS_accum_24, 0.1, axis=0)\n",
    "DATA['GEFS_24_P50'] = np.quantile(GEFS_accum_24, 0.5, axis=0)\n",
    "DATA['GEFS_24_P90'] = np.quantile(GEFS_accum_24, 0.9, axis=0)\n"
   ]
  },
  {
   "cell_type": "code",
   "execution_count": 16,
   "metadata": {},
   "outputs": [],
   "source": [
    "accum_window = 24 # 24x3h = 3 day\n",
    "output_freq = 2 # 2x3h = 6h per output\n",
    "skip_start = 1 # skip the first 3hr, start from 12hr instead of 9hr \n",
    "\n",
    "CNN_accum_72, inds_start, inds_end = utils.accum_slide_window(CNN_output, accum_window, output_freq, skip_start)\n",
    "CNN_accum_72[..., land_mask_bc] = np.nan\n",
    "\n",
    "LEADs_72H_hrs = LEADs_3H_hrs[inds_end]\n",
    "\n",
    "GEFS_accum_72, inds_start, inds_end = utils.accum_slide_window(GEFS_raw, accum_window, output_freq, skip_start)\n",
    "GEFS_accum_72[..., land_mask_bc] = np.nan\n",
    "\n",
    "DATA['CNN_72_P10'] = np.quantile(CNN_accum_72, 0.1, axis=0)\n",
    "DATA['CNN_72_P50'] = np.quantile(CNN_accum_72, 0.5, axis=0)\n",
    "DATA['CNN_72_P90'] = np.quantile(CNN_accum_72, 0.9, axis=0)\n",
    "\n",
    "DATA['GEFS_72_P10'] = np.quantile(GEFS_accum_72, 0.1, axis=0)\n",
    "DATA['GEFS_72_P50'] = np.quantile(GEFS_accum_72, 0.5, axis=0)\n",
    "DATA['GEFS_72_P90'] = np.quantile(GEFS_accum_72, 0.9, axis=0)"
   ]
  },
  {
   "cell_type": "code",
   "execution_count": 17,
   "metadata": {},
   "outputs": [
    {
     "data": {
      "text/plain": [
       "15"
      ]
     },
     "execution_count": 17,
     "metadata": {},
     "output_type": "execute_result"
    }
   ],
   "source": [
    "len(LEADs_72H_hrs)"
   ]
  },
  {
   "cell_type": "code",
   "execution_count": 18,
   "metadata": {},
   "outputs": [],
   "source": [
    "\n",
    "             \n",
    "# def precip_map(data_pair, lon, lat, lead_hrs, accum_hrs, dt_utc_now, \n",
    "#                cmap_precip, label_precip, linewidth_map, Px_str, accum_str,\n",
    "#                edge, center_lon, shape_watershed_dir, PROVINCE, geom_US, fig_keys, png_bch_name, scale_param='50m', font_text=14, ):\n",
    "#     '''\n",
    "#     xxx\n",
    "#     '''\n",
    "#     vmin = label_precip[0]\n",
    "#     vmax = label_precip[-1]\n",
    "#     N_colors = len(label_precip)-1 # color = label-1\n",
    "\n",
    "#     dt_ini_str = datetime.strftime(dt_utc_now, '%Y-%h-%d %HZ')\n",
    "    \n",
    "#     TAGs = ['raw', 'post-processed']\n",
    "    \n",
    "\n",
    "#     accum_ = png_bch_name['accum_'].format(str(accum_hrs))\n",
    "#     dt_fmt = datetime.strftime(dt_utc_now, png_bch_name['dt_fmt_'])\n",
    "    \n",
    "#     if center_lon == -125:\n",
    "#         region = 'swbc'\n",
    "#     else:\n",
    "#         region = 'bc'\n",
    "    \n",
    "#     TITLE_base = png_bch_name['base_'].format(accum_, region, dt_fmt)+png_bch_name['tail']\n",
    "    \n",
    "#     for lead, fcst_h in enumerate(lead_hrs):\n",
    "        \n",
    "#         TITLE_text = TITLE_base.format(int(fcst_h))\n",
    "#         handle_title = []\n",
    "#         # --------------------------------------------- #\n",
    "#         # Calculate & format datetime\n",
    "#         dt_valid = dt_utc_now+timedelta(hours=fcst_h)\n",
    "#         dt_accum_start = dt_valid-timedelta(hours=accum_hrs)\n",
    "\n",
    "#         dt_valid_str = datetime.strftime(dt_valid, '%Y-%h-%d %HZ')\n",
    "#         dt_accum0_str = datetime.strftime(dt_accum_start, '%Y-%h-%d %HZ')\n",
    "#         dt_accum1_str = datetime.strftime(dt_valid, '%h-%d %HZ')\n",
    "\n",
    "#         h_str = ' ({} hrs)'.format(int(fcst_h))\n",
    "\n",
    "#         fig = plt.figure(figsize=(1.25*15, 1.25*8), dpi=fig_keys['dpi'])\n",
    "#         gs = gridspec.GridSpec(1, 2, width_ratios=[1, 1])\n",
    "        \n",
    "#         proj_ = ccrs.NorthPolarStereo(central_longitude=center_lon)\n",
    "        \n",
    "#         ax1 = plt.subplot(gs[0, 0], projection=proj_)\n",
    "#         ax2 = plt.subplot(gs[0, 1], projection=proj_)\n",
    "#         plt.subplots_adjust(0, 0, 1, 1, hspace=0, wspace=0)\n",
    "        \n",
    "#         AX = [ax1, ax2]\n",
    "        \n",
    "#         TEXT_poos1 = [[0.010, 0.248, 0.20, 0.0450], [0.510, 0.248, 0.20, 0.0450]]\n",
    "#         TEXT_poos2 = [[0.020, 0.198, 0.20, 0.0450], [0.520, 0.198, 0.20, 0.0450]]\n",
    "#         TEXT_poos3 = [[0.020, 0.178, 0.26, 0.0225], [0.520, 0.178, 0.26, 0.0225]]\n",
    "        \n",
    "#         for i, ax in enumerate(AX):\n",
    "#             if i == 0:\n",
    "#                 ax.set_title(TITLE_text, x=0.7, ha='left', fontsize=font_text+4)\n",
    "#             # --------------------------------------------- #\n",
    "#             # Map configuration\n",
    "#             ax.set_extent(edge, ccrs.PlateCarree())\n",
    "\n",
    "#             ax.add_feature(cfeature.LAND.with_scale(scale_param), facecolor='none', zorder=1)\n",
    "#             ax.add_feature(cfeature.COASTLINE.with_scale(scale_param), edgecolor='k', linewidth=linewidth_map, zorder=6)\n",
    "#             ax.add_feature(cfeature.BORDERS.with_scale(scale_param), linestyle='--', linewidth=linewidth_map, zorder=6)\n",
    "#             ax.add_feature(PROVINCE, edgecolor='k', linestyle=':', linewidth=linewidth_map, zorder=5)\n",
    "\n",
    "#             ax.add_geometries(Reader(shape_watershed_dir).geometries(), ccrs.PlateCarree(),\n",
    "#                               facecolor='none', edgecolor='0.25', linewidth=linewidth_map, hatch='//', zorder=3) #3\n",
    "#             ax.add_geometries(geom_US, ccrs.PlateCarree(),\n",
    "#                               facecolor='w', edgecolor='none', linewidth=0, zorder=4)\n",
    "#             ax.spines['geo'].set_linewidth(2.5)\n",
    "#             ax.spines['geo'].set_zorder(9)\n",
    "            \n",
    "#             # --------------------------------------------- #\n",
    "            \n",
    "#             data = data_pair[i]\n",
    "#             tag = TAGs[i]\n",
    "            \n",
    "#             CS_ = ax.contourf(lon, lat, data[lead, ...], cmap=cmap_precip, extend='max', transform=ccrs.PlateCarree(),  \n",
    "#                               levels=label_precip, norm=mcolors.BoundaryNorm(label_precip, ncolors=N_colors), zorder=2)\n",
    "\n",
    "#             CS_ = ax.contourf(lon[24:, :46], lat[24:, :46], data[lead, 24:, :46], cmap=cmap_precip, extend='max', \n",
    "#                               transform=ccrs.PlateCarree(), levels=label_precip, \n",
    "#                               norm=mcolors.BoundaryNorm(label_precip, ncolors=N_colors), zorder=5)\n",
    "\n",
    "#             ax.contour(lon, lat, data[lead, ...], levels=label_precip, colors=('0.5',), linewidths=(linewidth_map,), extend='max', \n",
    "#                        transform=ccrs.PlateCarree(), norm=mcolors.BoundaryNorm(label_precip, ncolors=N_colors), zorder=2)\n",
    "            \n",
    "    \n",
    "#             # --------------------------------------------- #\n",
    "#             # Title and text boxes\n",
    "\n",
    "#             ax_t1 = fig.add_axes(TEXT_poos1[i], facecolor='w')\n",
    "#             [j.set_linewidth(0.0) for j in ax_t1.spines.values()]\n",
    "#             ax_t1.tick_params(axis='both', left=False, top=False, right=False, bottom=False, \n",
    "#                               labelleft=False, labeltop=False, labelright=False, labelbottom=False)\n",
    "\n",
    "#             handle_title += plib.string_partial_format(fig, ax_t1, 0, 1, 'left', 'top', \n",
    "#                                                   ['The ', Px_str, ' percentile ', tag], \n",
    "#                                                   ['k',]*4, [font_text,]*4, ['normal', 'bold', 'normal', 'bold'])\n",
    "#             handle_title += plib.string_partial_format(fig, ax_t1, 0, 0.5, 'left', 'top', \n",
    "#                                                   ['GEFS ', accum_str, ' total precip ensemble'], \n",
    "#                                                   ['k',]*3, [font_text,]*3, ['normal', 'bold', 'normal'])\n",
    "\n",
    "#             ax_t2 = fig.add_axes(TEXT_poos2[i], facecolor='w')\n",
    "#             [j.set_linewidth(0.0) for j in ax_t2.spines.values()]\n",
    "#             ax_t2.tick_params(axis='both', left=False, top=False, right=False, bottom=False, \n",
    "#                               labelleft=False, labeltop=False, labelright=False, labelbottom=False)\n",
    "\n",
    "#             handle_title += plib.string_partial_format(fig, ax_t2, 0, 1, 'left', 'top', \n",
    "#                                                   ['Initi time: ', dt_ini_str], \n",
    "#                                                   ['k',]*2, [font_text,]*2, ['normal', 'normal'])\n",
    "#             handle_title += plib.string_partial_format(fig, ax_t2, 0, 0.525, 'left', 'top', \n",
    "#                                                   ['Valid time: ', dt_valid_str, h_str], \n",
    "#                                                   ['k',]*3, [font_text,]*3, ['normal', 'normal', 'normal'])\n",
    "        \n",
    "        \n",
    "#             ax_t3 = fig.add_axes(TEXT_poos3[i], facecolor='w')\n",
    "#             [j.set_linewidth(0.0) for j in ax_t3.spines.values()]\n",
    "#             ax_t3.tick_params(axis='both', left=False, top=False, right=False, bottom=False, \n",
    "#                               labelleft=False, labeltop=False, labelright=False, labelbottom=False)\n",
    "        \n",
    "#             handle_title += plib.string_partial_format(fig, ax_t3, 0, 1.0, 'left', 'top', \n",
    "#                                                   ['Accum time: from ', dt_accum0_str, ' to ', dt_accum1_str], \n",
    "#                                                   ['k',]*4, [font_text,]*4, ['normal', 'normal', 'normal', 'normal'])\n",
    "        \n",
    "#         for handle in handle_title:\n",
    "#             handle.set_bbox(dict(facecolor='w', edgecolor='none', pad=0.0, zorder=6))\n",
    "        \n",
    "#         ax_base = fig.add_axes([1.01, 0.2, 0.065, 0.6], facecolor='none')\n",
    "#         [j.set_linewidth(0) for j in ax_base.spines.values()]\n",
    "#         ax_base.tick_params(axis='both', left=False, top=False, right=False, bottom=False, \n",
    "#                             labelleft=False, labeltop=False, labelright=False, labelbottom=False)\n",
    "#         cax = inset_axes(ax_base, height='100%', width='25%', borderpad=0, loc=2)\n",
    "#         CBar = plt.colorbar(CS_, orientation='vertical', extend='max', ticks=label_precip, cax=cax)\n",
    "#         CBar.ax.tick_params(axis='y', labelsize=font_text, direction='in', length=21)\n",
    "#         CBar.set_label('[mm]', fontsize=font_text)\n",
    "#         CBar.outline.set_linewidth(2.5)"
   ]
  },
  {
   "cell_type": "code",
   "execution_count": 19,
   "metadata": {},
   "outputs": [],
   "source": [
    "camp_precip, label_precip = plib.precip_cmap(return_label=True, accum_map=False)\n",
    "lon = lon_bc\n",
    "lat = lat_bc"
   ]
  },
  {
   "cell_type": "code",
   "execution_count": 35,
   "metadata": {},
   "outputs": [],
   "source": [
    "#MODELs = ['CNN', 'GEFS']\n",
    "#TAGs = ['post-processed', 'raw']\n",
    "# model = 'CNN'\n",
    "# tag = 'post-processed'\n",
    "\n",
    "ACCUMs = ['72',] #'3', '24', \n",
    "ACCUM_strs = ['3 days',] #'3 hourly', '1 day', \n",
    "ACCUM_flags = [True,] #False, True, \n",
    "LEADs = (LEADs_72H_hrs,) #LEADs_3H_hrs, LEADs_24H_hrs, \n",
    "\n",
    "Ps = ['P90',] #'P10', 'P50', \n",
    "P_strs = ['90-th',] #'10-th', '50-th', \n",
    "\n",
    "EDGEs = [edge_bc, edge_sw]\n",
    "CENTERs = [center_lon_bc, center_lon_sw]\n",
    "\n",
    "    \n",
    "for j, accum in enumerate(ACCUMs[:1]):\n",
    "    accum_hrs = int(accum)\n",
    "    accum_str = ACCUM_strs[j]\n",
    "    lead_hrs = LEADs[j]\n",
    "    cmap_precip, label_precip = plib.precip_cmap(return_label=True, accum_map=ACCUM_flags[j])\n",
    "\n",
    "    for k, P in enumerate(Ps[:1]):\n",
    "        P_str = P_strs[k]\n",
    "\n",
    "        data_pair = (DATA['GEFS_{}_{}'.format(accum, P)], DATA['CNN_{}_{}'.format(accum, P)])\n",
    "        \n",
    "        for l, edge in enumerate(EDGEs):\n",
    "            center_lon = CENTERs[l]\n",
    "            \n",
    "            plib.precip_map(data_pair, lon, lat, lead_hrs, accum_hrs, dt_utc_now, \n",
    "                            camp_precip, label_precip, linewidth_map, P_str, accum_str, \n",
    "                            edge, center_lon, shape_watershed_dir, PROVINCE, geom_US, fig_keys, png_bch_name, scale_param='50m', font_text=14)\n",
    "\n",
    "            "
   ]
  },
  {
   "cell_type": "code",
   "execution_count": null,
   "metadata": {},
   "outputs": [],
   "source": []
  },
  {
   "cell_type": "code",
   "execution_count": null,
   "metadata": {},
   "outputs": [],
   "source": []
  },
  {
   "cell_type": "code",
   "execution_count": null,
   "metadata": {},
   "outputs": [],
   "source": []
  },
  {
   "cell_type": "code",
   "execution_count": null,
   "metadata": {},
   "outputs": [],
   "source": []
  },
  {
   "cell_type": "code",
   "execution_count": null,
   "metadata": {},
   "outputs": [],
   "source": []
  },
  {
   "cell_type": "code",
   "execution_count": null,
   "metadata": {},
   "outputs": [],
   "source": []
  },
  {
   "cell_type": "code",
   "execution_count": null,
   "metadata": {},
   "outputs": [],
   "source": []
  }
 ],
 "metadata": {
  "kernelspec": {
   "display_name": "Python 3",
   "language": "python",
   "name": "python3"
  },
  "language_info": {
   "codemirror_mode": {
    "name": "ipython",
    "version": 3
   },
   "file_extension": ".py",
   "mimetype": "text/x-python",
   "name": "python",
   "nbconvert_exporter": "python",
   "pygments_lexer": "ipython3",
   "version": "3.6.8"
  }
 },
 "nbformat": 4,
 "nbformat_minor": 4
}
