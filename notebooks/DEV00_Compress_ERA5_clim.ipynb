{
 "cells": [
  {
   "cell_type": "code",
   "execution_count": null,
   "metadata": {},
   "outputs": [],
   "source": []
  },
  {
   "cell_type": "code",
   "execution_count": 1,
   "metadata": {},
   "outputs": [],
   "source": [
    "import sys\n",
    "import time\n",
    "import os.path\n",
    "from glob import glob\n",
    "from datetime import datetime, timedelta\n",
    "\n",
    "# data tools\n",
    "import h5py\n",
    "import numpy as np\n",
    "import numba as nb\n",
    "import pandas as pd\n",
    "import netCDF4 as nc\n",
    "\n",
    "# custom tools\n",
    "sys.path.insert(0, '/glade/u/home/ksha/PUBLISH/WFRT-PP-DEV/')\n",
    "\n",
    "from namelist_casper import * "
   ]
  },
  {
   "cell_type": "code",
   "execution_count": null,
   "metadata": {},
   "outputs": [],
   "source": []
  },
  {
   "cell_type": "code",
   "execution_count": 2,
   "metadata": {},
   "outputs": [],
   "source": [
    "# importing domain information\n",
    "with h5py.File(save_dir+'BC_domain_info.hdf', 'r') as h5io:\n",
    "    lat_bc = h5io['bc_lat'][...] # lats of the BC domain\n",
    "    lon_bc = h5io['bc_lon'][...] # lons of the BC domain\n",
    "    land_mask_bc = h5io['land_mask_bc'][...] # selecting OCEAN grids from the BC domain\n",
    "\n",
    "ocean_mask_bc = np.logical_not(land_mask_bc) # selecting LAND grids from the BC domain"
   ]
  },
  {
   "cell_type": "code",
   "execution_count": 3,
   "metadata": {},
   "outputs": [],
   "source": [
    "BACKUP_dir = '/glade/scratch/ksha/BACKUP/'\n",
    "ERA_dir = BACKUP_dir + 'ERA5/ERA5_PCT/'\n",
    "bc_inds = [73, 121, 36, 148]"
   ]
  },
  {
   "cell_type": "code",
   "execution_count": 4,
   "metadata": {},
   "outputs": [],
   "source": [
    "# clim\n",
    "with h5py.File(ERA_dir+'PT_3hour_clim.hdf', 'r') as h5io:\n",
    "    era_3h_clim = h5io['era_3h_clim'][..., bc_inds[0]:bc_inds[1], bc_inds[2]:bc_inds[3]]"
   ]
  },
  {
   "cell_type": "code",
   "execution_count": 5,
   "metadata": {},
   "outputs": [],
   "source": [
    "import zarr"
   ]
  },
  {
   "cell_type": "code",
   "execution_count": 6,
   "metadata": {},
   "outputs": [],
   "source": [
    "zarr.save(path_era5_clim_namelist, era_3h_clim)"
   ]
  },
  {
   "cell_type": "code",
   "execution_count": null,
   "metadata": {},
   "outputs": [],
   "source": []
  },
  {
   "cell_type": "code",
   "execution_count": null,
   "metadata": {},
   "outputs": [],
   "source": []
  },
  {
   "cell_type": "code",
   "execution_count": 8,
   "metadata": {},
   "outputs": [
    {
     "data": {
      "text/plain": [
       "(12, 48, 112)"
      ]
     },
     "execution_count": 8,
     "metadata": {},
     "output_type": "execute_result"
    }
   ],
   "source": [
    "era_3h_clim.shape"
   ]
  },
  {
   "cell_type": "code",
   "execution_count": null,
   "metadata": {},
   "outputs": [],
   "source": []
  }
 ],
 "metadata": {
  "kernelspec": {
   "display_name": "Python 3",
   "language": "python",
   "name": "python3"
  },
  "language_info": {
   "codemirror_mode": {
    "name": "ipython",
    "version": 3
   },
   "file_extension": ".py",
   "mimetype": "text/x-python",
   "name": "python",
   "nbconvert_exporter": "python",
   "pygments_lexer": "ipython3",
   "version": "3.6.8"
  }
 },
 "nbformat": 4,
 "nbformat_minor": 4
}
