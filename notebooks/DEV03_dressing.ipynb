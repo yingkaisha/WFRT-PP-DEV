{
 "cells": [
  {
   "cell_type": "code",
   "execution_count": 2,
   "metadata": {},
   "outputs": [],
   "source": [
    "import os\n",
    "import sys\n",
    "import time\n",
    "import argparse\n",
    "\n",
    "import h5py\n",
    "import zarr\n",
    "import pygrib\n",
    "import numba as nb\n",
    "import numpy as np\n",
    "from datetime import datetime\n",
    "\n",
    "import tensorflow as tf\n",
    "from tensorflow import keras\n",
    "import tensorflow.keras.backend as K\n",
    "\n",
    "sys.path.insert(0, '/glade/u/home/ksha/PUBLISH/WFRT-PP-DEV/')\n",
    "sys.path.insert(0, '/glade/u/home/ksha/PUBLISH/WFRT-PP-DEV/libs/')\n",
    "\n",
    "import utils\n",
    "\n",
    "# !!!! <---- change to your namelist\n",
    "from namelist_casper import * \n",
    "#"
   ]
  },
  {
   "cell_type": "code",
   "execution_count": 3,
   "metadata": {},
   "outputs": [],
   "source": [
    "# graph tools\n",
    "import cmaps\n",
    "import cartopy.crs as ccrs\n",
    "import cartopy.mpl.geoaxes\n",
    "import cartopy.feature as cfeature\n",
    "from cartopy.io.shapereader import Reader\n",
    "from cartopy.feature import ShapelyFeature\n",
    "from cartopy.mpl.gridliner import LONGITUDE_FORMATTER, LATITUDE_FORMATTER\n",
    "\n",
    "import matplotlib.pyplot as plt\n",
    "import matplotlib.lines as mlines\n",
    "import matplotlib.colors as colors\n",
    "import matplotlib.patches as patches\n",
    "from matplotlib.collections import PatchCollection\n",
    "\n",
    "from matplotlib import ticker\n",
    "import matplotlib.ticker as mticker\n",
    "import matplotlib.gridspec as gridspec\n",
    "from mpl_toolkits.axes_grid1.inset_locator import inset_axes\n",
    "\n",
    "%matplotlib inline"
   ]
  },
  {
   "cell_type": "code",
   "execution_count": null,
   "metadata": {},
   "outputs": [],
   "source": []
  },
  {
   "cell_type": "code",
   "execution_count": 4,
   "metadata": {},
   "outputs": [],
   "source": [
    "dt_fmt = '20220331'\n",
    "if dt_fmt == 'auto':\n",
    "    dt_utc_now = datetime.utcnow()\n",
    "    dt_fmt_string = datetime.strftime(dt_utc_now, '%Y%m%d')\n",
    "else:\n",
    "    dt_fmt_string = dt_fmt\n",
    "    dt_utc_now = datetime.strptime(dt_fmt_string, '%Y%m%d')"
   ]
  },
  {
   "cell_type": "code",
   "execution_count": 5,
   "metadata": {},
   "outputs": [],
   "source": [
    "with h5py.File(path_domain_namelist, 'r') as h5io:\n",
    "    lat_bc = h5io['bc_lat'][...] # lats of the BC domain\n",
    "    lon_bc = h5io['bc_lon'][...] # lons of the BC domain\n",
    "    land_mask_bc = h5io['land_mask_bc'][...] # selecting OCEAN grids from the BC domain"
   ]
  },
  {
   "cell_type": "code",
   "execution_count": 6,
   "metadata": {},
   "outputs": [],
   "source": [
    "name_output = filename_output_namelist.format(dt_fmt_string)\n",
    "output_dir = output_dir_namelist.format(dt_fmt_string)"
   ]
  },
  {
   "cell_type": "code",
   "execution_count": null,
   "metadata": {},
   "outputs": [],
   "source": []
  },
  {
   "cell_type": "code",
   "execution_count": 7,
   "metadata": {},
   "outputs": [],
   "source": [
    "with h5py.File(output_dir+name_output, 'r') as h5io:\n",
    "    gefs_apcp = h5io['gefs_apcp'][...]"
   ]
  },
  {
   "cell_type": "code",
   "execution_count": 9,
   "metadata": {},
   "outputs": [
    {
     "data": {
      "text/plain": [
       "(75, 6, 48, 112)"
      ]
     },
     "execution_count": 9,
     "metadata": {},
     "output_type": "execute_result"
    }
   ],
   "source": [
    "gefs_apcp.shape"
   ]
  },
  {
   "cell_type": "code",
   "execution_count": 7,
   "metadata": {},
   "outputs": [],
   "source": [
    "gefs_dress = gefs_apcp"
   ]
  },
  {
   "cell_type": "code",
   "execution_count": 8,
   "metadata": {},
   "outputs": [
    {
     "data": {
      "text/plain": [
       "<matplotlib.collections.QuadMesh at 0x2b82fe02eb70>"
      ]
     },
     "execution_count": 8,
     "metadata": {},
     "output_type": "execute_result"
    },
    {
     "data": {
      "image/png": "[encoded data removed]",
      "text/plain": [
       "<Figure size 432x288 with 1 Axes>"
      ]
     },
     "metadata": {
      "needs_background": "light"
     },
     "output_type": "display_data"
    }
   ],
   "source": [
    "plt.pcolormesh(gefs_dress[0, 0, ...], vmin=0, vmax=2, cmap=plt.cm.nipy_spectral_r)"
   ]
  },
  {
   "cell_type": "code",
   "execution_count": null,
   "metadata": {},
   "outputs": [],
   "source": []
  },
  {
   "cell_type": "code",
   "execution_count": null,
   "metadata": {},
   "outputs": [],
   "source": []
  },
  {
   "cell_type": "code",
   "execution_count": 11,
   "metadata": {},
   "outputs": [],
   "source": [
    "from tensorflow import keras\n",
    "from tensorflow.keras.layers import Input\n",
    "from tensorflow.keras.models import Model"
   ]
  },
  {
   "cell_type": "code",
   "execution_count": null,
   "metadata": {},
   "outputs": [],
   "source": []
  },
  {
   "cell_type": "code",
   "execution_count": 12,
   "metadata": {},
   "outputs": [],
   "source": [
    "input_tensor = Input((None, None, 3))\n",
    "filter_num_down = [80, 160, 320, 640]\n",
    "filter_num_skip = [80, 80, 80,]\n",
    "filter_num_aggregate = 320\n",
    "filter_num_sup = 80\n",
    "stack_num_down = 2\n",
    "stack_num_up = 1\n",
    "activation = 'GELU'\n",
    "batch_norm = True\n",
    "pool = False\n",
    "unpool = False\n",
    "name = 'denoise'"
   ]
  },
  {
   "cell_type": "code",
   "execution_count": null,
   "metadata": {},
   "outputs": [],
   "source": []
  },
  {
   "cell_type": "code",
   "execution_count": 13,
   "metadata": {},
   "outputs": [],
   "source": [
    "import DL_lib as DL"
   ]
  },
  {
   "cell_type": "code",
   "execution_count": 14,
   "metadata": {},
   "outputs": [],
   "source": [
    "X_decoder = DL.denoise_base(input_tensor, filter_num_down, filter_num_skip, filter_num_aggregate, \n",
    "                            stack_num_down=stack_num_down, stack_num_up=stack_num_up, activation=activation, \n",
    "                            batch_norm=batch_norm, pool=pool, unpool=unpool, name=name)\n",
    "\n",
    "OUT_stack = DL.denoise_sup_head(X_decoder, filter_num_sup, activation=activation, \n",
    "                                batch_norm=batch_norm, pool=pool, unpool=unpool, name=name)\n",
    "\n",
    "model = Model([input_tensor,], OUT_stack)"
   ]
  },
  {
   "cell_type": "code",
   "execution_count": 15,
   "metadata": {},
   "outputs": [
    {
     "name": "stdout",
     "output_type": "stream",
     "text": [
      "Import model:\n",
      "/glade/work/ksha/AnEn_UNET3M_RAW_tune.hdf\n"
     ]
    }
   ],
   "source": [
    "model_path = '/glade/work/ksha/AnEn_UNET3M_RAW_tune.hdf'\n",
    "W = DL.dummy_loader(model_path)\n",
    "\n",
    "model.set_weights(W)\n"
   ]
  },
  {
   "cell_type": "code",
   "execution_count": 16,
   "metadata": {},
   "outputs": [],
   "source": [
    "#model.summary()"
   ]
  },
  {
   "cell_type": "code",
   "execution_count": 17,
   "metadata": {},
   "outputs": [],
   "source": [
    "with h5py.File(save_dir+'BC_domain_info.hdf', 'r') as h5io:\n",
    "    etopo_025 = h5io['etopo_bc'][...]\n",
    "    land_mask_bc = h5io['land_mask_bc'][...]\n",
    "grid_shape = land_mask_bc.shape\n",
    "\n",
    "# elevation preprocess\n",
    "etopo_025[etopo_025<0] = 0\n",
    "max_ = np.nanmax(etopo_025)\n",
    "min_ = np.nanmin(etopo_025)\n",
    "etopo_025 = (etopo_025-min_)/(max_-min_)"
   ]
  },
  {
   "cell_type": "code",
   "execution_count": 18,
   "metadata": {},
   "outputs": [],
   "source": [
    "BACKUP_dir = '/glade/scratch/ksha/BACKUP/'\n",
    "ERA_dir = BACKUP_dir + 'ERA5/ERA5_PCT/'\n",
    "bc_inds = [73, 121, 36, 148]"
   ]
  },
  {
   "cell_type": "code",
   "execution_count": 19,
   "metadata": {},
   "outputs": [],
   "source": [
    "# clim\n",
    "with h5py.File(ERA_dir+'PT_3hour_clim.hdf', 'r') as h5io:\n",
    "    era_3h_clim = h5io['era_3h_clim'][..., bc_inds[0]:bc_inds[1], bc_inds[2]:bc_inds[3]]\n",
    "\n",
    "# precip preprocess\n",
    "era_3h_clim = np.log(era_3h_clim+1)\n",
    "era_3h_clim[..., land_mask_bc] = 0.0"
   ]
  },
  {
   "cell_type": "code",
   "execution_count": 20,
   "metadata": {},
   "outputs": [],
   "source": []
  },
  {
   "cell_type": "code",
   "execution_count": 21,
   "metadata": {},
   "outputs": [],
   "source": [
    "mon_ind = dt_utc_now.month-1\n",
    "temp_clim = era_3h_clim[mon_ind, ...]"
   ]
  },
  {
   "cell_type": "code",
   "execution_count": 22,
   "metadata": {},
   "outputs": [
    {
     "data": {
      "text/plain": [
       "(48, 112)"
      ]
     },
     "execution_count": 22,
     "metadata": {},
     "output_type": "execute_result"
    }
   ],
   "source": [
    "temp_clim.shape"
   ]
  },
  {
   "cell_type": "code",
   "execution_count": 23,
   "metadata": {},
   "outputs": [
    {
     "data": {
      "text/plain": [
       "(48, 112)"
      ]
     },
     "execution_count": 23,
     "metadata": {},
     "output_type": "execute_result"
    }
   ],
   "source": [
    "etopo_025.shape"
   ]
  },
  {
   "cell_type": "code",
   "execution_count": 24,
   "metadata": {},
   "outputs": [],
   "source": [
    "temp_precip = np.copy(gefs_dress)\n",
    "temp_precip[temp_precip<0] = 0\n",
    "temp_precip = np.log(temp_precip+1)"
   ]
  },
  {
   "cell_type": "code",
   "execution_count": 25,
   "metadata": {},
   "outputs": [],
   "source": [
    "CNN_output = np.empty(temp_precip.shape)"
   ]
  },
  {
   "cell_type": "code",
   "execution_count": 26,
   "metadata": {},
   "outputs": [],
   "source": [
    "N_seq = temp_precip.shape[0]\n",
    "N_leads = temp_precip.shape[1]"
   ]
  },
  {
   "cell_type": "code",
   "execution_count": 27,
   "metadata": {},
   "outputs": [],
   "source": [
    "single_seq = np.empty((N_seq, 48, 112, 3))"
   ]
  },
  {
   "cell_type": "code",
   "execution_count": 28,
   "metadata": {},
   "outputs": [
    {
     "name": "stdout",
     "output_type": "stream",
     "text": [
      "\t ... done. 338.7806086540222 sec\n"
     ]
    }
   ],
   "source": [
    "start_time = time.time()\n",
    "for lead in range(N_leads):\n",
    "    single_seq[..., 0] = temp_precip[:, lead, ...]\n",
    "    single_seq[..., 1] = temp_clim[None, ...]\n",
    "    single_seq[..., 2] = etopo_025[None, ...]\n",
    "    \n",
    "    single_out = model.predict([single_seq,])\n",
    "    single_out = single_out[-1][..., 0]\n",
    "    single_out = np.exp(single_out)-1\n",
    "    \n",
    "    CNN_output[:, lead, ...] = single_out\n",
    "    \n",
    "print('\\t ... done. {} sec'.format((time.time() - start_time)))"
   ]
  },
  {
   "cell_type": "code",
   "execution_count": 8,
   "metadata": {},
   "outputs": [],
   "source": [
    "name_output = filename_CNN_output_namelist.format(dt_fmt_string)"
   ]
  },
  {
   "cell_type": "code",
   "execution_count": 11,
   "metadata": {},
   "outputs": [],
   "source": [
    "with h5py.File(output_dir+name_output, 'r') as h5io:\n",
    "    CNN_output = h5io['gefs_apcp'][...]"
   ]
  },
  {
   "cell_type": "code",
   "execution_count": 13,
   "metadata": {},
   "outputs": [
    {
     "data": {
      "text/plain": [
       "(75, 54, 48, 112)"
      ]
     },
     "execution_count": 13,
     "metadata": {},
     "output_type": "execute_result"
    }
   ],
   "source": [
    "CNN_output.shape"
   ]
  },
  {
   "cell_type": "code",
   "execution_count": 30,
   "metadata": {},
   "outputs": [
    {
     "data": {
      "text/plain": [
       "<matplotlib.collections.QuadMesh at 0x2b9f5828eac8>"
      ]
     },
     "execution_count": 30,
     "metadata": {},
     "output_type": "execute_result"
    },
    {
     "data": {
      "image/png": "[encoded data removed]",
      "text/plain": [
       "<Figure size 432x288 with 1 Axes>"
      ]
     },
     "metadata": {
      "needs_background": "light"
     },
     "output_type": "display_data"
    }
   ],
   "source": [
    "plt.pcolormesh(CNN_output[-15, -1, ...], vmin=0, vmax=5, cmap=plt.cm.nipy_spectral_r)"
   ]
  },
  {
   "cell_type": "code",
   "execution_count": 30,
   "metadata": {},
   "outputs": [
    {
     "data": {
      "text/plain": [
       "(75, 54, 48, 112)"
      ]
     },
     "execution_count": 30,
     "metadata": {},
     "output_type": "execute_result"
    }
   ],
   "source": [
    "CNN_output.shape"
   ]
  },
  {
   "cell_type": "code",
   "execution_count": null,
   "metadata": {},
   "outputs": [],
   "source": []
  }
 ],
 "metadata": {
  "kernelspec": {
   "display_name": "Python 3",
   "language": "python",
   "name": "python3"
  },
  "language_info": {
   "codemirror_mode": {
    "name": "ipython",
    "version": 3
   },
   "file_extension": ".py",
   "mimetype": "text/x-python",
   "name": "python",
   "nbconvert_exporter": "python",
   "pygments_lexer": "ipython3",
   "version": "3.6.8"
  }
 },
 "nbformat": 4,
 "nbformat_minor": 4
}
